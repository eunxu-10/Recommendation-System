{
  "nbformat": 4,
  "nbformat_minor": 0,
  "metadata": {
    "colab": {
      "name": "Daum_Webtoon_Crawling_3",
      "provenance": [],
      "collapsed_sections": [],
      "toc_visible": true
    },
    "kernelspec": {
      "name": "python3",
      "display_name": "Python 3"
    }
  },
  "cells": [
    {
      "cell_type": "markdown",
      "metadata": {
        "id": "nWWZrHq-LPPD"
      },
      "source": [
        "### 다음 데이터 크롤링 (2021-03-17)\n",
        "\n",
        "### 3. 회차별 댓글 크롤링\n",
        " * 모바일 웹툰 -> 댓글 -> 추천순 -> xhr파일\n",
        " * 우두커니 댓글 url = http://m.cartoon.media.daum.net/data/gateway/comments/list/webtoon_ep/50196?page=1&pageSize=99999&isBest=true&sortType=Recommend "
      ]
    },
    {
      "cell_type": "code",
      "metadata": {
        "id": "8YkScOfUWFVc"
      },
      "source": [
        "from IPython.display import clear_output # clear_output() 으로 아웃풋 제거 가능\n",
        "from IPython.core.interactiveshell import InteractiveShell\n",
        "InteractiveShell.ast_node_interactivity = \"all\"\n",
        "\n",
        "import pandas as pd\n",
        "import requests\n",
        "import time\n",
        "from pandas.io.json import json_normalize\n",
        "\n",
        "pd.set_option('display.max_columns', 200)\n",
        "pd.set_option('display.width', 1000)"
      ],
      "execution_count": 2,
      "outputs": []
    },
    {
      "cell_type": "code",
      "metadata": {
        "colab": {
          "base_uri": "https://localhost:8080/"
        },
        "id": "L3vV4nstLnd1",
        "outputId": "93a436e7-82e1-41e6-f82f-34e59a98a4ca"
      },
      "source": [
        "from google.colab import drive\n",
        "drive.mount('/content/gdrive')"
      ],
      "execution_count": 3,
      "outputs": [
        {
          "output_type": "stream",
          "text": [
            "Mounted at /content/gdrive\n"
          ],
          "name": "stdout"
        }
      ]
    },
    {
      "cell_type": "code",
      "metadata": {
        "id": "SFFJFIjzLpZC"
      },
      "source": [
        "data = pd.read_csv(\"/content/gdrive/My Drive/Colab Notebooks/daum_webtoon/D_Webtoon_2_thumbnail.csv\")"
      ],
      "execution_count": 4,
      "outputs": []
    },
    {
      "cell_type": "code",
      "metadata": {
        "id": "odKFB5-4LqZH",
        "colab": {
          "base_uri": "https://localhost:8080/",
          "height": 656
        },
        "outputId": "df06f4df-920d-4efc-ae92-f47d9b5ff312"
      },
      "source": [
        "# data"
      ],
      "execution_count": null,
      "outputs": [
        {
          "output_type": "execute_result",
          "data": {
            "text/html": [
              "<div>\n",
              "<style scoped>\n",
              "    .dataframe tbody tr th:only-of-type {\n",
              "        vertical-align: middle;\n",
              "    }\n",
              "\n",
              "    .dataframe tbody tr th {\n",
              "        vertical-align: top;\n",
              "    }\n",
              "\n",
              "    .dataframe thead th {\n",
              "        text-align: right;\n",
              "    }\n",
              "</style>\n",
              "<table border=\"1\" class=\"dataframe\">\n",
              "  <thead>\n",
              "    <tr style=\"text-align: right;\">\n",
              "      <th></th>\n",
              "      <th>wbt_id</th>\n",
              "      <th>wbt_nkname</th>\n",
              "      <th>wbt_name</th>\n",
              "      <th>id</th>\n",
              "      <th>episode</th>\n",
              "      <th>title</th>\n",
              "      <th>img_url</th>\n",
              "    </tr>\n",
              "  </thead>\n",
              "  <tbody>\n",
              "    <tr>\n",
              "      <th>0</th>\n",
              "      <td>1444</td>\n",
              "      <td>vacantly</td>\n",
              "      <td>우두커니</td>\n",
              "      <td>50196</td>\n",
              "      <td>1</td>\n",
              "      <td>프롤로그</td>\n",
              "      <td>http://t1.daumcdn.net/webtoon/op/d0634b71310c2...</td>\n",
              "    </tr>\n",
              "    <tr>\n",
              "      <th>1</th>\n",
              "      <td>1444</td>\n",
              "      <td>vacantly</td>\n",
              "      <td>우두커니</td>\n",
              "      <td>50197</td>\n",
              "      <td>2</td>\n",
              "      <td>1화 이삿날</td>\n",
              "      <td>http://t1.daumcdn.net/webtoon/op/2b9b44f47e8df...</td>\n",
              "    </tr>\n",
              "    <tr>\n",
              "      <th>2</th>\n",
              "      <td>1444</td>\n",
              "      <td>vacantly</td>\n",
              "      <td>우두커니</td>\n",
              "      <td>50198</td>\n",
              "      <td>3</td>\n",
              "      <td>2화 꿈이겠지</td>\n",
              "      <td>http://t1.daumcdn.net/webtoon/op/87beb2a0deb96...</td>\n",
              "    </tr>\n",
              "    <tr>\n",
              "      <th>3</th>\n",
              "      <td>1444</td>\n",
              "      <td>vacantly</td>\n",
              "      <td>우두커니</td>\n",
              "      <td>50199</td>\n",
              "      <td>4</td>\n",
              "      <td>3화 폭우</td>\n",
              "      <td>http://t1.daumcdn.net/webtoon/op/fad8f36885f49...</td>\n",
              "    </tr>\n",
              "    <tr>\n",
              "      <th>4</th>\n",
              "      <td>1444</td>\n",
              "      <td>vacantly</td>\n",
              "      <td>우두커니</td>\n",
              "      <td>50322</td>\n",
              "      <td>5</td>\n",
              "      <td>4화 아버지의 그림</td>\n",
              "      <td>http://t1.daumcdn.net/webtoon/op/88c19843941d6...</td>\n",
              "    </tr>\n",
              "    <tr>\n",
              "      <th>...</th>\n",
              "      <td>...</td>\n",
              "      <td>...</td>\n",
              "      <td>...</td>\n",
              "      <td>...</td>\n",
              "      <td>...</td>\n",
              "      <td>...</td>\n",
              "      <td>...</td>\n",
              "    </tr>\n",
              "    <tr>\n",
              "      <th>79483</th>\n",
              "      <td>1222</td>\n",
              "      <td>gochoo</td>\n",
              "      <td>여기 고수 추가요!</td>\n",
              "      <td>34174</td>\n",
              "      <td>22</td>\n",
              "      <td>20화</td>\n",
              "      <td>http://i1.cartoon.daumcdn.net/svc/image/U03/ca...</td>\n",
              "    </tr>\n",
              "    <tr>\n",
              "      <th>79484</th>\n",
              "      <td>1222</td>\n",
              "      <td>gochoo</td>\n",
              "      <td>여기 고수 추가요!</td>\n",
              "      <td>34285</td>\n",
              "      <td>23</td>\n",
              "      <td>21화</td>\n",
              "      <td>http://i1.cartoon.daumcdn.net/svc/image/U03/ca...</td>\n",
              "    </tr>\n",
              "    <tr>\n",
              "      <th>79485</th>\n",
              "      <td>1222</td>\n",
              "      <td>gochoo</td>\n",
              "      <td>여기 고수 추가요!</td>\n",
              "      <td>34398</td>\n",
              "      <td>24</td>\n",
              "      <td>22화</td>\n",
              "      <td>http://i1.cartoon.daumcdn.net/svc/image/U03/ca...</td>\n",
              "    </tr>\n",
              "    <tr>\n",
              "      <th>79486</th>\n",
              "      <td>1222</td>\n",
              "      <td>gochoo</td>\n",
              "      <td>여기 고수 추가요!</td>\n",
              "      <td>34494</td>\n",
              "      <td>25</td>\n",
              "      <td>에필로그</td>\n",
              "      <td>http://i1.cartoon.daumcdn.net/svc/image/U03/ca...</td>\n",
              "    </tr>\n",
              "    <tr>\n",
              "      <th>79487</th>\n",
              "      <td>1222</td>\n",
              "      <td>gochoo</td>\n",
              "      <td>여기 고수 추가요!</td>\n",
              "      <td>34611</td>\n",
              "      <td>26</td>\n",
              "      <td>후기</td>\n",
              "      <td>http://i1.cartoon.daumcdn.net/svc/image/U03/ca...</td>\n",
              "    </tr>\n",
              "  </tbody>\n",
              "</table>\n",
              "<p>79488 rows × 7 columns</p>\n",
              "</div>"
            ],
            "text/plain": [
              "       wbt_id wbt_nkname    wbt_name     id  episode       title                                            img_url\n",
              "0        1444   vacantly        우두커니  50196        1        프롤로그  http://t1.daumcdn.net/webtoon/op/d0634b71310c2...\n",
              "1        1444   vacantly        우두커니  50197        2      1화 이삿날  http://t1.daumcdn.net/webtoon/op/2b9b44f47e8df...\n",
              "2        1444   vacantly        우두커니  50198        3     2화 꿈이겠지  http://t1.daumcdn.net/webtoon/op/87beb2a0deb96...\n",
              "3        1444   vacantly        우두커니  50199        4       3화 폭우  http://t1.daumcdn.net/webtoon/op/fad8f36885f49...\n",
              "4        1444   vacantly        우두커니  50322        5  4화 아버지의 그림  http://t1.daumcdn.net/webtoon/op/88c19843941d6...\n",
              "...       ...        ...         ...    ...      ...         ...                                                ...\n",
              "79483    1222     gochoo  여기 고수 추가요!  34174       22         20화  http://i1.cartoon.daumcdn.net/svc/image/U03/ca...\n",
              "79484    1222     gochoo  여기 고수 추가요!  34285       23         21화  http://i1.cartoon.daumcdn.net/svc/image/U03/ca...\n",
              "79485    1222     gochoo  여기 고수 추가요!  34398       24         22화  http://i1.cartoon.daumcdn.net/svc/image/U03/ca...\n",
              "79486    1222     gochoo  여기 고수 추가요!  34494       25        에필로그  http://i1.cartoon.daumcdn.net/svc/image/U03/ca...\n",
              "79487    1222     gochoo  여기 고수 추가요!  34611       26          후기  http://i1.cartoon.daumcdn.net/svc/image/U03/ca...\n",
              "\n",
              "[79488 rows x 7 columns]"
            ]
          },
          "metadata": {
            "tags": []
          },
          "execution_count": 4
        }
      ]
    },
    {
      "cell_type": "markdown",
      "metadata": {
        "id": "qT9u2SU7CvW9"
      },
      "source": [
        "### 3. 댓글정보 가져오기"
      ]
    },
    {
      "cell_type": "code",
      "metadata": {
        "id": "eEElZ-pDCx90"
      },
      "source": [
        "# headers = {'Content-Type': 'text/html'}\n",
        "# cookies = {'session_id' : 'RECENT_USE=on; RECENT_SEARCH=%EC%8C%8D%EA%B0%91%2C; RECENT_VIEW=105701|54701|104995|50615|90827; SLEVEL=0; ALARM_COUPON=20210315192117; __T_=1; VOTE=MTAuNTE%3D; MY=MTAuNTE%3D; ORDER=MTAuNTE%3D; HM_CU=5DRHdXDNCXg; PROF=0603012032024076024120UiQPJk7X-6w0mlxoempuua-WtEc2RT95vdkDQkloQ8t.KuZP3z7wEl2bxriNh5SdkQ00LYYSA9A1_cGNLCyhCzrwOjTi9JCLCPIz3mlNTt7zkh799Fe9fQCTuFahgZwN7arRuq1D_iaAuoc0fIauQlo8OTLcCscrxJX8Uw00rfhTzfRpBVHPn23B_vTzGDH5t.ow35ZYntxYtQOcleZXKh2-G69UsZ5Joi8PC77SepzPx_EoF25QUPUbuh6eoCQZjRxg2d7oLS_CliiS.l83vhtpaXRyxA00; AGEN=4ywGKJy_PaRaCTDlmS0HW-WYwYc1j29NCjAYA-_LArc; TIARA=-73vHQQZIRxfdXAvj44dQwwavwjLg6nvVGXEtrCIlZXu863u25mi8mC7Y9bO.h-EsfrP1HeF.yELGzHaPO31P81NuBns.l5W; TS=1615950634; HTS=bVfL1dMfBsVxzsj8gVzI5g00; LSID=504abe8c-6e68-42db-bbd8-2af123c1d5c21615950634905; _fbp=fb.1.1615950639787.830177619; _T_ANO=OKZ+Q7Y4USXeyLVg1FxHtaULMyth/41zPwjH70cY9uaj3fZxApYc3Gyg9+qIuDbYCMYz4PErFebItCEXrE4FgQxYjtA9vUB2VsgDa0sWRapm8NuIqTsv7//6qVc8QDmjPW50kHWVY7ace5tdJ4Cli3uJ09HbrYl/Av/2SD/oo+eXt4qt+GHkqWS1/Mkch0h5ZNzmgcXcfsekrvv6S76JrB/DznWm5G+2pA+QUGK/LUgeLB0qQ8shpQI0MBB9O8cFE6Kp9X1kLiaSbFfgJkYuUgCEYVEO1+Xvcd29B7wC0wzohhBaiCZQCTcbh4DgEb7fd9Uxb3qr7RicroD5HEdUCw=='}\n",
        "\n",
        "# # 댓글\n",
        "# url3 = 'http://m.cartoon.media.daum.net/data/gateway/comments/list/webtoon_ep/' +'50196' + '?page=1&pageSize=99999&isBest=true&sortType=Recommend'\n",
        "# response = requests.get(url3, headers=headers, cookies=cookies)\n",
        "# temp_df = response.json()"
      ],
      "execution_count": null,
      "outputs": []
    },
    {
      "cell_type": "code",
      "metadata": {
        "id": "-jHG9tvEDDWj"
      },
      "source": [
        "# temp_df.keys()\n",
        "# temp_df"
      ],
      "execution_count": null,
      "outputs": []
    },
    {
      "cell_type": "code",
      "metadata": {
        "id": "s7UouTNKDR7O"
      },
      "source": [
        "# temp_df['data']['comments'][0].keys()\n",
        "# temp_df['data']['comments'][0]"
      ],
      "execution_count": null,
      "outputs": []
    },
    {
      "cell_type": "markdown",
      "metadata": {
        "id": "zdAc4vtQY5ou"
      },
      "source": [
        "### 본격 크롤링"
      ]
    },
    {
      "cell_type": "code",
      "metadata": {
        "id": "sbnmgwy0DX4X"
      },
      "source": [
        "def getReplyDf(ls_url_id):\n",
        "    print('Getting webtoon`s entire comments list from Daum..')\n",
        "\n",
        "    headers = {'Content-Type': 'text/html'}\n",
        "    cookies = {'session_id' : 'RECENT_USE=on; RECENT_SEARCH=%EC%8C%8D%EA%B0%91%2C; RECENT_VIEW=105701|54701|104995|50615|90827; SLEVEL=0; ALARM_COUPON=20210315192117; __T_=1; VOTE=MTAuNTE%3D; MY=MTAuNTE%3D; ORDER=MTAuNTE%3D; HM_CU=5DRHdXDNCXg; PROF=0603012032024076024120UiQPJk7X-6w0mlxoempuua-WtEc2RT95vdkDQkloQ8t.KuZP3z7wEl2bxriNh5SdkQ00LYYSA9A1_cGNLCyhCzrwOjTi9JCLCPIz3mlNTt7zkh799Fe9fQCTuFahgZwN7arRuq1D_iaAuoc0fIauQlo8OTLcCscrxJX8Uw00rfhTzfRpBVHPn23B_vTzGDH5t.ow35ZYntxYtQOcleZXKh2-G69UsZ5Joi8PC77SepzPx_EoF25QUPUbuh6eoCQZjRxg2d7oLS_CliiS.l83vhtpaXRyxA00; AGEN=4ywGKJy_PaRaCTDlmS0HW-WYwYc1j29NCjAYA-_LArc; TIARA=-73vHQQZIRxfdXAvj44dQwwavwjLg6nvVGXEtrCIlZXu863u25mi8mC7Y9bO.h-EsfrP1HeF.yELGzHaPO31P81NuBns.l5W; TS=1615950634; HTS=bVfL1dMfBsVxzsj8gVzI5g00; LSID=504abe8c-6e68-42db-bbd8-2af123c1d5c21615950634905; _fbp=fb.1.1615950639787.830177619; _T_ANO=OKZ+Q7Y4USXeyLVg1FxHtaULMyth/41zPwjH70cY9uaj3fZxApYc3Gyg9+qIuDbYCMYz4PErFebItCEXrE4FgQxYjtA9vUB2VsgDa0sWRapm8NuIqTsv7//6qVc8QDmjPW50kHWVY7ace5tdJ4Cli3uJ09HbrYl/Av/2SD/oo+eXt4qt+GHkqWS1/Mkch0h5ZNzmgcXcfsekrvv6S76JrB/DznWm5G+2pA+QUGK/LUgeLB0qQ8shpQI0MBB9O8cFE6Kp9X1kLiaSbFfgJkYuUgCEYVEO1+Xvcd29B7wC0wzohhBaiCZQCTcbh4DgEb7fd9Uxb3qr7RicroD5HEdUCw=='}\n",
        "\n",
        "    cnt = 0\n",
        "    error=0\n",
        "    error_ls = []\n",
        "    \n",
        "    wbt_comment = pd.DataFrame(columns=['commentId', 'parentCommentId', 'articleId', 'articleType', 'subject', \n",
        "                                    'viewUrl', 'encryptedUserId', 'daumName', 'childCount', 'recommendCount', \n",
        "                                    'disagreeCount', 'status', 'regDate', 'content', 'spoiler', 'isWithdraw', 'isParent', 'isMine', 'isBest'])\n",
        "    for chapterid in ls_url_id:\n",
        "        # 댓글\n",
        "        try:\n",
        "            url3 = 'http://m.cartoon.media.daum.net/data/gateway/comments/list/webtoon_ep/' + str(chapterid) + '?page=1&pageSize=99999&isBest=true&sortType=Recommend'\n",
        "            response = requests.get(url3, headers=headers, cookies=cookies)\n",
        "        except:\n",
        "            print(\"server rejected please wait 15sec...\")\n",
        "            time.sleep(15)\n",
        "            print(\"now reconnect again...\", end=\"\")\n",
        "            url3 = 'http://m.cartoon.media.daum.net/data/gateway/comments/list/webtoon_ep/' + str(chapterid) + '?page=1&pageSize=99999&isBest=true&sortType=Recommend'\n",
        "            response = requests.get(url3, headers=headers, cookies=cookies)\n",
        "            print(\"success!!\")\n",
        "\n",
        "        try:\n",
        "            temp_df = response.json()\n",
        "            for i in temp_df['data']['comments']:\n",
        "                wbt_comment = wbt_comment.append(i,ignore_index=True)\n",
        "\n",
        "        except: #에러발생시 어떤 웹툰의 회차인지 캐치\n",
        "            error += 1\n",
        "            print(\"error occurd!!(\",error,'-',chapterid,\")..\", end=\"\")\n",
        "            error_ls.append(chapterid)\n",
        "        \n",
        "        if cnt % 5 == 0:\n",
        "            print(cnt,\"(\",chapterid,\").\",end=\"\")\n",
        "        cnt += 1 \n",
        "        \n",
        "        \n",
        "    df = wbt_comment[['commentId', # 댓글 id #'parentCommentId', \n",
        "                      'articleId', # 회차 id #'articleType',\n",
        "                       'subject', # 웹툰 제목 # 'viewUrl','encryptedUserId',\n",
        "                       'daumName', # 작성자 name # 'childCount', \n",
        "                      'recommendCount', 'disagreeCount',\n",
        "                       #'status', \n",
        "                      'regDate', # 댓글 작성 시간\n",
        "                      'content', # 내용 \n",
        "                      #'isParent', \n",
        "                      'isBest' # 베댓 여부\n",
        "                      ]]\n",
        "    return df.reset_index(drop=True), error_ls"
      ],
      "execution_count": 5,
      "outputs": []
    },
    {
      "cell_type": "code",
      "metadata": {
        "id": "WbN9pU4FjQZn",
        "colab": {
          "base_uri": "https://localhost:8080/"
        },
        "outputId": "0016ff50-6685-4d40-db85-b3278e925731"
      },
      "source": [
        "df3, errors = getReplyDf(list(data['id'])[10300:10700])\n",
        "errors"
      ],
      "execution_count": null,
      "outputs": [
        {
          "output_type": "stream",
          "text": [
            "Getting webtoon`s entire comments list from Daum..\n",
            "0 ( 46194 ).5 ( 46974 ).10 ( 47835 ).15 ( 49316 ).20 ( 50725 ).25 ( 52148 ).30 ( 105911 )."
          ],
          "name": "stdout"
        }
      ]
    },
    {
      "cell_type": "code",
      "metadata": {
        "id": "lhFvilO-jXtC"
      },
      "source": [
        "df3.to_csv(\"D_Webtoon_3_comments(10300-10699).csv\",index=False)"
      ],
      "execution_count": 28,
      "outputs": []
    }
  ]
}