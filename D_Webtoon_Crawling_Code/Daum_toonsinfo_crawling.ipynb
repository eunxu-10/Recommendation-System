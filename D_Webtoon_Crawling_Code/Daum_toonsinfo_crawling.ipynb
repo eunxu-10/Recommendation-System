{
  "cells": [
    {
      "cell_type": "markdown",
      "metadata": {
        "id": "azZS7WsE3Ngg"
      },
      "source": [
        "### 다음 웹툰정보 데이터 크롤링\n",
        "* 평점순 웹툰 : http://m.webtoon.daum.net/data/mobile/webtoon?sort=score&page_size=9999&page_no=1\n",
        "* 웹툰 이름, 장르, 작가, 게시일, url, 줄거리, 평점, 19금여부, 완결여부 크롤링"
      ]
    },
    {
      "cell_type": "code",
      "execution_count": null,
      "metadata": {
        "id": "8YkScOfUWFVc"
      },
      "outputs": [],
      "source": [
        "from IPython.display import clear_output # clear_output() 으로 아웃풋 제거 가능\n",
        "# 값 연속적으로 모두 출력\n",
        "from IPython.core.interactiveshell import InteractiveShell\n",
        "InteractiveShell.ast_node_interactivity = \"all\" \n",
        "\n",
        "import pandas as pd\n",
        "import requests\n",
        "\n",
        "pd.set_option('display.max_columns', 200)\n",
        "pd.set_option('display.width', 1000)"
      ]
    },
    {
      "cell_type": "code",
      "execution_count": null,
      "metadata": {
        "id": "S_TOmPA5Mu7D"
      },
      "outputs": [],
      "source": [
        "# 데이터를 가져와서 판다스의 데이터프레임으로 만드는 함수\n",
        "\n",
        "def get_data(url):\n",
        "    response = requests.get(url)\n",
        "    json_info = response.json() # json -> dict 형식으로 알아서 바꿔줌\n",
        "    \n",
        "    return json_info"
      ]
    },
    {
      "cell_type": "code",
      "execution_count": null,
      "metadata": {
        "colab": {
          "base_uri": "https://localhost:8080/"
        },
        "id": "qU1P0ZdV3ZA9",
        "outputId": "751ca8bc-3dd4-409f-ea4d-fa335fb1465f"
      },
      "outputs": [
        {
          "name": "stdout",
          "output_type": "stream",
          "text": [
            "input your id : ··········\n",
            "input your password : ··········\n",
            "200\n"
          ]
        },
        {
          "name": "stderr",
          "output_type": "stream",
          "text": [
            "/usr/local/lib/python3.7/dist-packages/urllib3/connectionpool.py:847: InsecureRequestWarning: Unverified HTTPS request is being made. Adding certificate verification is strongly advised. See: https://urllib3.readthedocs.io/en/latest/advanced-usage.html#ssl-warnings\n",
            "  InsecureRequestWarning)\n"
          ]
        }
      ],
      "source": [
        "# 19금 만화도 크롤링하려면 로그인을 해야한다\n",
        "\n",
        "import getpass\n",
        "\n",
        "myid = getpass.getpass('input your id : ')\n",
        "mypassword = getpass.getpass('input your password : ')\n",
        "\n",
        "LOGIN_URL = 'https://logins.daum.net/accounts/loginform.do'\n",
        "LOGIN_DATA = {\n",
        "    'id': myid,\n",
        "    'inputPwd': mypassword\n",
        "}\n",
        "with requests.Session() as s:\n",
        "    res = s.post(LOGIN_URL, data=LOGIN_DATA, verify=False, allow_redirects=False)\n",
        "\n",
        "    print(res.status_code)"
      ]
    },
    {
      "cell_type": "code",
      "execution_count": null,
      "metadata": {
        "id": "f2TLXrh13cRZ"
      },
      "outputs": [],
      "source": [
        "# 평점순 웹툰url\n",
        "# url = 'http://m.webtoon.daum.net/data/mobile/webtoon?sort=score&page_size=50&page_no=1&1615108397290'\n",
        "\n",
        "# -> page_size=9999(9999번까지) & page_no=1(1페이지로)\n",
        "url1 = 'http://m.webtoon.daum.net/data/mobile/webtoon?sort=score&page_size=9999&page_no=1'\n",
        "wbtn_raw1 = get_data(url1)"
      ]
    },
    {
      "cell_type": "code",
      "execution_count": null,
      "metadata": {
        "id": "7pIq8SKH3g2Q"
      },
      "outputs": [],
      "source": [
        "wbt1_df = pd.DataFrame(columns = ['id', 'nickname', 'webtoonType', 'title', 'englishTitle', 'finishYn', 'titleImage2', 'thumbnailImage', 'thumbnailImage2', 'padThumbnailImage', 'artistCommentImage', 'homeThumbnailImage', 'appThumbnailImage', 'pcThumbnailImage', 'pcRecommendImage', 'pcHomeImage', 'pcHomeRightImage', 'pcHomeLeftColor', 'pcHomeRightColor', 'introduction', 'startDate', 'finishDate', 'restartDate', 'serviceStatus', 'viewerType', 'weekTerm', 'articleId', 'media', 'url', 'simpleUrl', 'webtoonGroupId', 'payYn', 'payType', 'price', 'ageGrade', 'restYn', 'monopolize', 'dateCreated', 'webtoonComment', 'cartoon', 'cp', 'webtoonWeeks', 'webtoonEpisodes', 'previewWebtoonEpisodes', 'latestWebtoonEpisode', 'webtoonServices', 'relatedProducts', 'promotionContents', 'score', 'tag', 'isNew', 'averageScore', 'seriesYn', 'ranking', 'diff', 'metricsScore', 'eventBanners', 'sort', 'sortWeight', 'gidamoo', 'webtoonNotice', 'couponAvailable'])\n",
        "\n",
        "for data in wbtn_raw1['data']['webtoons']:\n",
        "    wbt1_df.loc[len(wbt1_df)] = data"
      ]
    },
    {
      "cell_type": "code",
      "execution_count": null,
      "metadata": {
        "id": "3nXiTRU-LrYc"
      },
      "outputs": [],
      "source": [
        "wbt1_df2 = wbt1_df[['id', 'nickname', #웹툰 닉네임\n",
        "                    'title', 'finishYn', 'thumbnailImage2', #'appThumbnailImage', \n",
        "                    #'viewerType', #(1206개중 1172개가 scroll) 'articleId', 'price' (1206개 다 0), \n",
        "                    'ageGrade', # (1206개중 1004개 0) #'restYn', # (1206개중 1153개가 'N') -> 휴재 여부인 듯\n",
        "                    'dateCreated', 'cartoon', 'latestWebtoonEpisode', 'webtoonServices', 'averageScore'\n",
        "                    # 'score',(1206개 다 0) #'isNew', # 신작 여부인 듯 'ranking', 'diff', 'metricsScore', 'sortWeight', 'couponAvailable'\n",
        "        ]]"
      ]
    },
    {
      "cell_type": "code",
      "execution_count": null,
      "metadata": {
        "id": "eiNSOBmM4eCn"
      },
      "outputs": [],
      "source": [
        "# 썸네일 이미지 링크 정제\n",
        "\n",
        "new_temp = pd.DataFrame(columns=['url'])\n",
        "for data in wbt1_df2['thumbnailImage2']:\n",
        "    new_temp.loc[len(new_temp)] = data['url']"
      ]
    },
    {
      "cell_type": "code",
      "execution_count": null,
      "metadata": {
        "id": "jkR_eOlt4kh_"
      },
      "outputs": [],
      "source": [
        "# 글/그림 작가 모으기\n",
        "\n",
        "new_temp2 = pd.DataFrame(columns=['artist_name'])\n",
        "for data in wbt1_df2['cartoon']:\n",
        "    new_temp2.loc[len(new_temp2)] = data['artists'][0]['name']+'/'+data['artists'][1]['name']"
      ]
    },
    {
      "cell_type": "code",
      "execution_count": null,
      "metadata": {
        "id": "s4XfoJhr4pAq"
      },
      "outputs": [],
      "source": [
        "# 마지막 업로드 일자/ 현재(완료) 회차\n",
        "\n",
        "new_temp3 = pd.DataFrame(columns=['count_chapter'])\n",
        "new_temp4 = pd.DataFrame(columns=['latest_Created'])\n",
        "for data in wbt1_df2['latestWebtoonEpisode']:\n",
        "    try:\n",
        "        new_temp3.loc[len(new_temp3)]= data['episode']\n",
        "    except:\n",
        "        new_temp3.loc[len(new_temp3)]= None\n",
        "    try:\n",
        "        new_temp4.loc[len(new_temp4)]= data['dateCreated']\n",
        "    except:\n",
        "        new_temp4.loc[len(new_temp4)]= None"
      ]
    },
    {
      "cell_type": "code",
      "execution_count": null,
      "metadata": {
        "colab": {
          "base_uri": "https://localhost:8080/"
        },
        "id": "JVkxCqD14tdG",
        "outputId": "ec152057-d010-403e-b221-a9ba9b6d3251"
      },
      "outputs": [],
      "source": [
        "df = wbt1_df2[['id', 'nickname', 'title', 'finishYn', 'ageGrade', 'dateCreated', 'averageScore']]\n",
        "df['artist']=new_temp2\n",
        "df['latest_upload']=new_temp4\n",
        "df['last_chapter']=new_temp3\n",
        "df['img_url']=new_temp"
      ]
    },
    {
      "cell_type": "code",
      "execution_count": null,
      "metadata": {
        "colab": {
          "base_uri": "https://localhost:8080/"
        },
        "id": "EzvfP-Qp43yU",
        "outputId": "ff021ea1-0382-40e0-adce-110b89fc857d"
      },
      "outputs": [],
      "source": [
        "# 장르/카테고리, 소개글, 자동수집\n",
        "\n",
        "intro = []\n",
        "genres = []\n",
        "categories = []\n",
        "print('trying to getting datas from Daum Webtoon...', end='')\n",
        "for i, data in df.iterrows():\n",
        "    url2 = 'http://webtoon.daum.net/data/pc/webtoon/view/'+data['nickname']\n",
        "    temp_df= get_data(url2)\n",
        "    try:\n",
        "        intro.append(temp_df['data']['webtoon']['introduction'])\n",
        "    except:\n",
        "        intro.append(None)\n",
        "    gs=[]\n",
        "    try:\n",
        "        for data in temp_df['data']['webtoon']['cartoon']['genres']:\n",
        "            gs.append(data['name'])\n",
        "        gs_text = '/'.join(gs)\n",
        "        genres.append(gs_text)\n",
        "    except:\n",
        "        genres.append(None)\n",
        "    ls = []\n",
        "    try:\n",
        "        for data in temp_df['data']['webtoon']['cartoon']['categories']:\n",
        "            ls.append(data['name'])\n",
        "        tmp_text = '/'.join(ls)\n",
        "        categories.append(tmp_text)\n",
        "    except:\n",
        "        categories.append(None)\n",
        "    print(i,\".\", end='')\n",
        "print(\"Crawling complete!\")\n",
        "\n",
        "df['intro'] = pd.Series(intro)\n",
        "df['genres'] = pd.Series(genres)\n",
        "df['categories'] = pd.Series(categories)"
      ]
    },
    {
      "cell_type": "code",
      "execution_count": null,
      "metadata": {
        "id": "lP0Hla5ZIHkV"
      },
      "outputs": [],
      "source": [
        "# 웹툰 url\n",
        "\n",
        "w_url = []\n",
        "for i, data in df.iterrows():\n",
        "    w_url.append('http://webtoon.daum.net/webtoon/view/'+data['nickname'])\n",
        "\n",
        "df['page url'] = pd.Series(w_url)"
      ]
    },
    {
      "cell_type": "code",
      "execution_count": null,
      "metadata": {
        "id": "DOKc3c895CDN"
      },
      "outputs": [],
      "source": [
        "df.to_csv(\"D_Webtoon_1_toonsinfo.csv\",index=False)"
      ]
    }
  ],
  "metadata": {
    "colab": {
      "collapsed_sections": [],
      "name": "Daum_Webtoon_Crawling_1",
      "provenance": []
    },
    "kernelspec": {
      "display_name": "Python 3",
      "name": "python3"
    }
  },
  "nbformat": 4,
  "nbformat_minor": 0
}
