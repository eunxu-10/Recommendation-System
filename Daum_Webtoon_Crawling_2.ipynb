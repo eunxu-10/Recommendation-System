{
  "nbformat": 4,
  "nbformat_minor": 0,
  "metadata": {
    "colab": {
      "name": "Daum_Webtoon_Crawling_2",
      "provenance": [],
      "collapsed_sections": []
    },
    "kernelspec": {
      "name": "python3",
      "display_name": "Python 3"
    }
  },
  "cells": [
    {
      "cell_type": "markdown",
      "metadata": {
        "id": "azZS7WsE3Ngg"
      },
      "source": [
        "### 다음 데이터 크롤링 (2021-03-12)\r\n",
        "### 2. 웹툰별 회차별 썸네일 크롤링"
      ]
    },
    {
      "cell_type": "code",
      "metadata": {
        "id": "8YkScOfUWFVc",
        "colab": {
          "base_uri": "https://localhost:8080/"
        },
        "outputId": "50ce8381-b295-4172-a3ee-78ce83099f11"
      },
      "source": [
        "from IPython.display import clear_output # clear_output() 으로 아웃풋 제거 가능\r\n",
        "from IPython.core.interactiveshell import InteractiveShell\r\n",
        "InteractiveShell.ast_node_interactivity = \"all\"\r\n",
        "\r\n",
        "import numpy as np\r\n",
        "import scipy as sp\r\n",
        "import pandas as pd\r\n",
        "import statsmodels.api as sm\r\n",
        "import statsmodels.formula.api as smf\r\n",
        "import statsmodels.stats.api as sms\r\n",
        "import sklearn as sk\r\n",
        "#notebook을 실행한 브라우저에서 바로 그림을 볼 수 있게 해준다.\r\n",
        "%matplotlib inline \r\n",
        "%config InlineBackend.figure_formats = {'png','retina'} #그래프를 더 높은 해상도를 출력\r\n",
        "\r\n",
        "import matplotlib as mpl\r\n",
        "import matplotlib.pylab as plt\r\n",
        "from mpl_toolkits.mplot3d import Axes3D\r\n",
        "\r\n",
        "import seaborn as sns\r\n",
        "sns.set()\r\n",
        "sns.set_style(\"whitegrid\")\r\n",
        "sns.set_color_codes()\r\n",
        "\r\n",
        "pd.set_option('display.max_columns', 200)\r\n",
        "pd.set_option('display.width', 1000)"
      ],
      "execution_count": 2,
      "outputs": [
        {
          "output_type": "stream",
          "text": [
            "/usr/local/lib/python3.7/dist-packages/statsmodels/tools/_testing.py:19: FutureWarning: pandas.util.testing is deprecated. Use the functions in the public API at pandas.testing instead.\n",
            "  import pandas.util.testing as tm\n"
          ],
          "name": "stderr"
        }
      ]
    },
    {
      "cell_type": "code",
      "metadata": {
        "id": "tnUFgkmDWsa8",
        "colab": {
          "base_uri": "https://localhost:8080/"
        },
        "outputId": "0fc735dd-01ae-4502-9dab-4b5cd0c6ca61"
      },
      "source": [
        "#scrapy\r\n",
        "!pip install scrapy"
      ],
      "execution_count": 3,
      "outputs": [
        {
          "output_type": "stream",
          "text": [
            "Requirement already satisfied: scrapy in /usr/local/lib/python3.7/dist-packages (2.4.1)\n",
            "Requirement already satisfied: lxml>=3.5.0; platform_python_implementation == \"CPython\" in /usr/local/lib/python3.7/dist-packages (from scrapy) (4.2.6)\n",
            "Requirement already satisfied: zope.interface>=4.1.3 in /usr/local/lib/python3.7/dist-packages (from scrapy) (5.2.0)\n",
            "Requirement already satisfied: protego>=0.1.15 in /usr/local/lib/python3.7/dist-packages (from scrapy) (0.1.16)\n",
            "Requirement already satisfied: w3lib>=1.17.0 in /usr/local/lib/python3.7/dist-packages (from scrapy) (1.22.0)\n",
            "Requirement already satisfied: itemadapter>=0.1.0 in /usr/local/lib/python3.7/dist-packages (from scrapy) (0.2.0)\n",
            "Requirement already satisfied: PyDispatcher>=2.0.5 in /usr/local/lib/python3.7/dist-packages (from scrapy) (2.0.5)\n",
            "Requirement already satisfied: queuelib>=1.4.2 in /usr/local/lib/python3.7/dist-packages (from scrapy) (1.5.0)\n",
            "Requirement already satisfied: pyOpenSSL>=16.2.0 in /usr/local/lib/python3.7/dist-packages (from scrapy) (20.0.1)\n",
            "Requirement already satisfied: cssselect>=0.9.1 in /usr/local/lib/python3.7/dist-packages (from scrapy) (1.1.0)\n",
            "Requirement already satisfied: parsel>=1.5.0 in /usr/local/lib/python3.7/dist-packages (from scrapy) (1.6.0)\n",
            "Requirement already satisfied: Twisted>=17.9.0 in /usr/local/lib/python3.7/dist-packages (from scrapy) (21.2.0)\n",
            "Requirement already satisfied: service-identity>=16.0.0 in /usr/local/lib/python3.7/dist-packages (from scrapy) (18.1.0)\n",
            "Requirement already satisfied: itemloaders>=1.0.1 in /usr/local/lib/python3.7/dist-packages (from scrapy) (1.0.4)\n",
            "Requirement already satisfied: cryptography>=2.0 in /usr/local/lib/python3.7/dist-packages (from scrapy) (3.4.6)\n",
            "Requirement already satisfied: setuptools in /usr/local/lib/python3.7/dist-packages (from zope.interface>=4.1.3->scrapy) (54.0.0)\n",
            "Requirement already satisfied: six in /usr/local/lib/python3.7/dist-packages (from protego>=0.1.15->scrapy) (1.15.0)\n",
            "Requirement already satisfied: incremental>=16.10.1 in /usr/local/lib/python3.7/dist-packages (from Twisted>=17.9.0->scrapy) (21.3.0)\n",
            "Requirement already satisfied: Automat>=0.8.0 in /usr/local/lib/python3.7/dist-packages (from Twisted>=17.9.0->scrapy) (20.2.0)\n",
            "Requirement already satisfied: hyperlink>=17.1.1 in /usr/local/lib/python3.7/dist-packages (from Twisted>=17.9.0->scrapy) (21.0.0)\n",
            "Requirement already satisfied: constantly>=15.1 in /usr/local/lib/python3.7/dist-packages (from Twisted>=17.9.0->scrapy) (15.1.0)\n",
            "Requirement already satisfied: attrs>=19.2.0 in /usr/local/lib/python3.7/dist-packages (from Twisted>=17.9.0->scrapy) (20.3.0)\n",
            "Requirement already satisfied: pyasn1-modules in /usr/local/lib/python3.7/dist-packages (from service-identity>=16.0.0->scrapy) (0.2.8)\n",
            "Requirement already satisfied: pyasn1 in /usr/local/lib/python3.7/dist-packages (from service-identity>=16.0.0->scrapy) (0.4.8)\n",
            "Requirement already satisfied: jmespath>=0.9.5 in /usr/local/lib/python3.7/dist-packages (from itemloaders>=1.0.1->scrapy) (0.10.0)\n",
            "Requirement already satisfied: cffi>=1.12 in /usr/local/lib/python3.7/dist-packages (from cryptography>=2.0->scrapy) (1.14.5)\n",
            "Requirement already satisfied: idna>=2.5 in /usr/local/lib/python3.7/dist-packages (from hyperlink>=17.1.1->Twisted>=17.9.0->scrapy) (2.10)\n",
            "Requirement already satisfied: pycparser in /usr/local/lib/python3.7/dist-packages (from cffi>=1.12->cryptography>=2.0->scrapy) (2.20)\n"
          ],
          "name": "stdout"
        }
      ]
    },
    {
      "cell_type": "code",
      "metadata": {
        "id": "fiY4C3EkWujs"
      },
      "source": [
        "import scrapy\r\n",
        "import requests\r\n",
        "from scrapy.http import TextResponse\r\n",
        "import time\r\n",
        "import urllib\r\n",
        "import urllib3"
      ],
      "execution_count": 4,
      "outputs": []
    },
    {
      "cell_type": "code",
      "metadata": {
        "id": "S_TOmPA5Mu7D"
      },
      "source": [
        "from pandas.io.json import json_normalize\r\n",
        "\r\n",
        "# 데이터를 가져와서 판다스의 데이터프레임으로 만드는 함수\r\n",
        "def get_data(url):\r\n",
        "    response = requests.get(url)\r\n",
        "    json_info = response.json() #json -> dict 형식으로 알아서 바꿔줌\r\n",
        "    \r\n",
        "    return json_info"
      ],
      "execution_count": 5,
      "outputs": []
    },
    {
      "cell_type": "code",
      "metadata": {
        "id": "qU1P0ZdV3ZA9",
        "colab": {
          "base_uri": "https://localhost:8080/"
        },
        "outputId": "faea2882-9c64-4fbc-8dc7-132eef6ff3a0"
      },
      "source": [
        "#19금 만화도 크롤링하려면 로그인을 해야한다\r\n",
        "\r\n",
        "import getpass\r\n",
        "\r\n",
        "myid = getpass.getpass('input your id : ')\r\n",
        "mypassword = getpass.getpass('input your password : ')\r\n",
        "\r\n",
        "LOGIN_URL = 'https://logins.daum.net/accounts/loginform.do'\r\n",
        "LOGIN_DATA = {\r\n",
        "    'id': myid,\r\n",
        "    'inputPwd': mypassword\r\n",
        "}\r\n",
        "with requests.Session() as s:\r\n",
        "    res = s.post(LOGIN_URL, data=LOGIN_DATA, verify=False, allow_redirects=False)\r\n",
        "\r\n",
        "    print(res.status_code)"
      ],
      "execution_count": 6,
      "outputs": [
        {
          "output_type": "stream",
          "text": [
            "input your id : ··········\n",
            "input your password : ··········\n"
          ],
          "name": "stdout"
        },
        {
          "output_type": "stream",
          "text": [
            "/usr/local/lib/python3.7/dist-packages/urllib3/connectionpool.py:847: InsecureRequestWarning: Unverified HTTPS request is being made. Adding certificate verification is strongly advised. See: https://urllib3.readthedocs.io/en/latest/advanced-usage.html#ssl-warnings\n",
            "  InsecureRequestWarning)\n"
          ],
          "name": "stderr"
        },
        {
          "output_type": "stream",
          "text": [
            "200\n"
          ],
          "name": "stdout"
        }
      ]
    },
    {
      "cell_type": "code",
      "metadata": {
        "colab": {
          "base_uri": "https://localhost:8080/"
        },
        "id": "VxJ5b1YZIfsE",
        "outputId": "385726e2-0396-4e3b-dfa9-783b735909fd"
      },
      "source": [
        "from google.colab import drive\r\n",
        "drive.mount('/content/gdrive')"
      ],
      "execution_count": 7,
      "outputs": [
        {
          "output_type": "stream",
          "text": [
            "Drive already mounted at /content/gdrive; to attempt to forcibly remount, call drive.mount(\"/content/gdrive\", force_remount=True).\n"
          ],
          "name": "stdout"
        }
      ]
    },
    {
      "cell_type": "code",
      "metadata": {
        "id": "Ly_kuN9CIQR6"
      },
      "source": [
        "data = pd.read_csv(\"/content/gdrive/My Drive/Colab Notebooks/daum_webtoon/D_Webtoon_1_toonsinfo.csv\")"
      ],
      "execution_count": 8,
      "outputs": []
    },
    {
      "cell_type": "code",
      "metadata": {
        "id": "6ncIypzJJSjH"
      },
      "source": [
        "# data"
      ],
      "execution_count": null,
      "outputs": []
    },
    {
      "cell_type": "code",
      "metadata": {
        "id": "jk8HVJxG5Nwe",
        "colab": {
          "base_uri": "https://localhost:8080/"
        },
        "outputId": "71c65719-af1e-445f-c28f-e7169077c13c"
      },
      "source": [
        "# # 우두커니 웹툰의 경우\r\n",
        "# url3 = 'http://webtoon.daum.net/data/pc/webtoon/view/'+ df.loc[0]['nickname']\r\n",
        "# temp_df= get_data(url3)\r\n",
        "\r\n",
        "# temp_df['data']['webtoon']['webtoonEpisodes'][0].keys()"
      ],
      "execution_count": null,
      "outputs": [
        {
          "output_type": "execute_result",
          "data": {
            "text/plain": [
              "dict_keys(['id', 'episode', 'title', 'shortTitle', 'thumbnailImage', 'episodeImage', 'encryptUseYn', 'serviceStatus', 'articleId', 'commentUseYn', 'dateCreated', 'webtoon', 'serviceType', 'multiType', 'multiBgm', 'multiBackgroundImage', 'price', 'padtoonImage', 'voteTarget', 'shareVoteTarget', 'isTopRecommend', 'simpleUrl', 'specialSearchString', 'specialSearchUrl', 'previewEndDate', 'isPaid', 'payWebtoonEpisode', 'product', 'ticketAvailable', 'ageGrade'])"
            ]
          },
          "metadata": {
            "tags": []
          },
          "execution_count": 16
        }
      ]
    },
    {
      "cell_type": "code",
      "metadata": {
        "id": "dk7S-jwfiBIT"
      },
      "source": [
        "# wbt_chapter = pd.DataFrame(columns=['id', 'episode', 'title', 'shortTitle', 'thumbnailImage', 'episodeImage', 'encryptUseYn', 'serviceStatus', 'articleId', 'commentUseYn', 'dateCreated', 'webtoon', 'serviceType', 'multiType', 'multiBgm', 'multiBackgroundImage', 'price', 'padtoonImage', 'voteTarget', 'shareVoteTarget', 'isTopRecommend', 'simpleUrl', 'specialSearchString', 'specialSearchUrl', 'previewEndDate', 'isPaid', 'payWebtoonEpisode', 'product', 'ticketAvailable'])\r\n",
        "# df_ch = temp_df['data']['webtoon']\r\n",
        "# for data in df_ch['webtoonEpisodes']:\r\n",
        "#     wbt_chapter.loc[len(wbt_chapter)] = data\r\n",
        "# # wbt_chapter.tail()"
      ],
      "execution_count": null,
      "outputs": []
    },
    {
      "cell_type": "code",
      "metadata": {
        "id": "iB8aZtQiiiDO"
      },
      "source": [
        "# wbt2_df=wbt_chapter[['id', 'episode', 'title', 'thumbnailImage']]"
      ],
      "execution_count": null,
      "outputs": []
    },
    {
      "cell_type": "code",
      "metadata": {
        "id": "NzB4xJCH5Yov"
      },
      "source": [
        "# wbt2_df2 = wbt2_df[['id', 'episode', 'title']].copy()\r\n",
        "\r\n",
        "# img_url = []\r\n",
        "# for i, data in wbt2_df.iterrows():\r\n",
        "#     try:\r\n",
        "#         img_url.append(data['thumbnailImage']['url'])\r\n",
        "#     except:\r\n",
        "#         img_url.append(None)\r\n",
        "\r\n",
        "# wbt2_df2['img_url'] = pd.Series(img_url)\r\n",
        "# wbt2_df2"
      ],
      "execution_count": null,
      "outputs": []
    },
    {
      "cell_type": "markdown",
      "metadata": {
        "id": "rgx6da5q59Yk"
      },
      "source": [
        "### 함수화 및 실행"
      ]
    },
    {
      "cell_type": "code",
      "metadata": {
        "id": "ZeJXyZXihBXR"
      },
      "source": [
        "def getChapterDf(ls_url_nicks):\r\n",
        "    print('Getting webtoon`s chapter list from Daum...')\r\n",
        "    \r\n",
        "    # 19금 데이터는 로그인이 필요하므로 세션정의... 는 그냥 직접 쿠키넣는방식으로 일단 진행하자\r\n",
        "#     myid = getpass.getpass('input your id : ')\r\n",
        "#     mypassword = getpass.getpass('input your password : ')\r\n",
        "#     LOGIN_DATA = {\r\n",
        "#         'id': myid,\r\n",
        "#         'inputPwd': mypassword\r\n",
        "#     }\r\n",
        "\r\n",
        "    headers = { # 여기서 로그인 쿠키를 헤더로 적용... 나중엔 알아서 가져오도록 만들자.\r\n",
        "        \"Cookie\" : 'webid=e262fe6c843243709b1d0a64cfe873eb; RECENT_VIEW=\"54701,55085\"; VOTE=MTAuNTE%3D; ORDER=MTAuNTE%3D; vp_device_id=1f7bAzellmoyzStMBqN2Pp6bdCcNVipvj3gYzOZkFKx; MY=MTAuNTE%3D; RecentView=%25EC%259D%25B4%25ED%2583%259C%25EC%259B%2590%2520%25ED%2581%25B4%25EB%259D%25BC%25EC%2593%25B0%2520%25ED%2594%2584%25EB%25A1%25A4%25EB%25A1%259C%25EA%25B7%25B8%3D40282; vp_session_key=AaRCKijn01XbujQWBezwHHKWWzPWFYplgfZAJgIrhqUaD4TVERWpaSb6mvlNevlV; vp_session_created_dt=1535622388030; vp_session_last_dt=1535622388030; SLEVEL=1; ssab=; TS=1535950858; HTS=sj.TbIViasfAOtjtStaRbw00; HM_CU=5DAWAMD6R4V; PROF=0603012032024076024152UiQPJk7X-6w0mlxoempuua9IaKc526PpMB76H2GYgpSJKuZP3z7wEl2bxriNh5SdkQ00LYYSA9A1_cGNLCyhCzrwOr7-omZXHa-QuVgyn3wL8WASys.UzixF2G_52hqbPYJDP2ucx-r-3450fIauQlo8OTLcCscrxJX8Uw00Voisr2G29DEK2uPH_uXvTC_166bBSZ6xYjhdUKu4RRtM2C3Q.CnrgVGsTYQQNovWpZDesjsOm6Mi9hCDwYQWA5tGJ2KD91MuBdxz1jH4qn-zDP1VFPbawB4SHpqX.kEwKISri5hbp3QLk9VqVnjOHQ00; LSID=b5a7a737-bc42-46dc-9276-31bf28e1c61a1535950858115; AGEN=2CYjspfS0F62_SwOF91ygTL5KvwKAog8RBvW6Fq7qGY; webid_sync=1535950907339; TIARA=C8r6rYByfPOcIAktOGWIc2UVBE.Blxtfu8En.QZopHfGj5D8L788yTTNJejIpEw4llO.N3DOgNq..kIHgLSZkyIoQ8G2M7IA; sf_ck_tst=test'\r\n",
        "    }\r\n",
        "\r\n",
        "    df = pd.DataFrame(columns=['wbt_id','wbt_nkname', 'wbt_name','id', 'episode', 'title', 'img_url'])\r\n",
        "\r\n",
        "    cnt = 0\r\n",
        "    error = 0\r\n",
        "    error_ls = []\r\n",
        "\r\n",
        "    for nickname in ls_url_nicks:\r\n",
        "        try :\r\n",
        "            url3 = 'http://webtoon.daum.net/data/pc/webtoon/view/'+ nickname\r\n",
        "            response = requests.get(url3, headers=headers)# 세션을 유지하면서 url가져오기\r\n",
        "        except:\r\n",
        "            print(\"server rejected please wait 45sec...\")\r\n",
        "            time.sleep(45)\r\n",
        "            print(\"now reconnect again...\", end=\"\")\r\n",
        "            url3 = 'http://webtoon.daum.net/data/pc/webtoon/view/'+ nickname\r\n",
        "            response = requests.get(url3, headers=headers)# 세션을 유지하면서 url가져오기\r\n",
        "            print(\"success!!\")\r\n",
        "            \r\n",
        "        try:        \r\n",
        "            json_info = response.json() \r\n",
        "            temp_df = json_info\r\n",
        "            \r\n",
        "            wbt_chapter = pd.DataFrame(columns=['id', 'episode', 'title', 'shortTitle', 'thumbnailImage', 'episodeImage', 'encryptUseYn', 'serviceStatus', 'articleId', 'commentUseYn', 'dateCreated', 'webtoon', 'serviceType', 'multiType', 'multiBgm', 'multiBackgroundImage', 'price', 'padtoonImage', 'voteTarget', 'shareVoteTarget', 'isTopRecommend', 'simpleUrl', 'specialSearchString', 'specialSearchUrl', 'previewEndDate', 'isPaid', 'payWebtoonEpisode', 'product', 'ticketAvailable'])\r\n",
        "            \r\n",
        "            df_ch = temp_df['data']['webtoon']               \r\n",
        "            \r\n",
        "            for data in df_ch['webtoonEpisodes']:\r\n",
        "                wbt_chapter.loc[len(wbt_chapter)] = data\r\n",
        "            wbt_chapter['wbt_id']=df_ch['id']\r\n",
        "            wbt_chapter['wbt_nkname']=df_ch['nickname']\r\n",
        "            wbt_chapter['wbt_name']=df_ch['title']\r\n",
        "\r\n",
        "            wbt2_df=wbt_chapter[['wbt_id','wbt_nkname', 'wbt_name', 'id', 'episode', 'title', 'thumbnailImage']]\r\n",
        "            wbt2_df2 = wbt2_df[['wbt_id','wbt_nkname', 'wbt_name', 'id', 'episode', 'title']].copy()\r\n",
        "            \r\n",
        "            img_url = []\r\n",
        "            for i, data in wbt2_df.iterrows():\r\n",
        "                try:\r\n",
        "                    img_url.append(data['thumbnailImage']['url'])\r\n",
        "                except:\r\n",
        "                    img_url.append(None)\r\n",
        "                    \r\n",
        "            wbt2_df2['img_url'] = pd.Series(img_url)\r\n",
        "            \r\n",
        "            df = df.append(wbt2_df2)\r\n",
        "            \r\n",
        "            if cnt % 20 == 0:\r\n",
        "                print(cnt,\"(\",nickname,\")..\",end=\"\")\r\n",
        "            cnt += 1    \r\n",
        "            \r\n",
        "        except: #에러발생시 어떤놈인지 캐치(아마도 19금 걸린거 아닐까? 응 맞아)\r\n",
        "            error += 1\r\n",
        "            print(\"error occurd!!(\",error,'-',nickname,\")..\", end=\"\")\r\n",
        "            error_ls.append(nickname)\r\n",
        "        \r\n",
        "    return df.reset_index(drop=True), error_ls"
      ],
      "execution_count": 9,
      "outputs": []
    },
    {
      "cell_type": "code",
      "metadata": {
        "id": "Bn0n25P36ilD"
      },
      "source": [
        "df2,error_ls = getChapterDf(list(data['nickname']))\r\n",
        "error_ls"
      ],
      "execution_count": null,
      "outputs": []
    },
    {
      "cell_type": "code",
      "metadata": {
        "colab": {
          "base_uri": "https://localhost:8080/",
          "height": 656
        },
        "id": "ayNvm3V-aMCk",
        "outputId": "59eccdd0-becd-454c-ead7-9abab404fdac"
      },
      "source": [
        "df2"
      ],
      "execution_count": 11,
      "outputs": [
        {
          "output_type": "execute_result",
          "data": {
            "text/html": [
              "<div>\n",
              "<style scoped>\n",
              "    .dataframe tbody tr th:only-of-type {\n",
              "        vertical-align: middle;\n",
              "    }\n",
              "\n",
              "    .dataframe tbody tr th {\n",
              "        vertical-align: top;\n",
              "    }\n",
              "\n",
              "    .dataframe thead th {\n",
              "        text-align: right;\n",
              "    }\n",
              "</style>\n",
              "<table border=\"1\" class=\"dataframe\">\n",
              "  <thead>\n",
              "    <tr style=\"text-align: right;\">\n",
              "      <th></th>\n",
              "      <th>wbt_id</th>\n",
              "      <th>wbt_nkname</th>\n",
              "      <th>wbt_name</th>\n",
              "      <th>id</th>\n",
              "      <th>episode</th>\n",
              "      <th>title</th>\n",
              "      <th>img_url</th>\n",
              "    </tr>\n",
              "  </thead>\n",
              "  <tbody>\n",
              "    <tr>\n",
              "      <th>0</th>\n",
              "      <td>1444</td>\n",
              "      <td>vacantly</td>\n",
              "      <td>우두커니</td>\n",
              "      <td>50196</td>\n",
              "      <td>1</td>\n",
              "      <td>프롤로그</td>\n",
              "      <td>http://t1.daumcdn.net/webtoon/op/d0634b71310c2...</td>\n",
              "    </tr>\n",
              "    <tr>\n",
              "      <th>1</th>\n",
              "      <td>1444</td>\n",
              "      <td>vacantly</td>\n",
              "      <td>우두커니</td>\n",
              "      <td>50197</td>\n",
              "      <td>2</td>\n",
              "      <td>1화 이삿날</td>\n",
              "      <td>http://t1.daumcdn.net/webtoon/op/2b9b44f47e8df...</td>\n",
              "    </tr>\n",
              "    <tr>\n",
              "      <th>2</th>\n",
              "      <td>1444</td>\n",
              "      <td>vacantly</td>\n",
              "      <td>우두커니</td>\n",
              "      <td>50198</td>\n",
              "      <td>3</td>\n",
              "      <td>2화 꿈이겠지</td>\n",
              "      <td>http://t1.daumcdn.net/webtoon/op/87beb2a0deb96...</td>\n",
              "    </tr>\n",
              "    <tr>\n",
              "      <th>3</th>\n",
              "      <td>1444</td>\n",
              "      <td>vacantly</td>\n",
              "      <td>우두커니</td>\n",
              "      <td>50199</td>\n",
              "      <td>4</td>\n",
              "      <td>3화 폭우</td>\n",
              "      <td>http://t1.daumcdn.net/webtoon/op/fad8f36885f49...</td>\n",
              "    </tr>\n",
              "    <tr>\n",
              "      <th>4</th>\n",
              "      <td>1444</td>\n",
              "      <td>vacantly</td>\n",
              "      <td>우두커니</td>\n",
              "      <td>50322</td>\n",
              "      <td>5</td>\n",
              "      <td>4화 아버지의 그림</td>\n",
              "      <td>http://t1.daumcdn.net/webtoon/op/88c19843941d6...</td>\n",
              "    </tr>\n",
              "    <tr>\n",
              "      <th>...</th>\n",
              "      <td>...</td>\n",
              "      <td>...</td>\n",
              "      <td>...</td>\n",
              "      <td>...</td>\n",
              "      <td>...</td>\n",
              "      <td>...</td>\n",
              "      <td>...</td>\n",
              "    </tr>\n",
              "    <tr>\n",
              "      <th>75717</th>\n",
              "      <td>1222</td>\n",
              "      <td>gochoo</td>\n",
              "      <td>여기 고수 추가요!</td>\n",
              "      <td>34174</td>\n",
              "      <td>22</td>\n",
              "      <td>20화</td>\n",
              "      <td>http://i1.cartoon.daumcdn.net/svc/image/U03/ca...</td>\n",
              "    </tr>\n",
              "    <tr>\n",
              "      <th>75718</th>\n",
              "      <td>1222</td>\n",
              "      <td>gochoo</td>\n",
              "      <td>여기 고수 추가요!</td>\n",
              "      <td>34285</td>\n",
              "      <td>23</td>\n",
              "      <td>21화</td>\n",
              "      <td>http://i1.cartoon.daumcdn.net/svc/image/U03/ca...</td>\n",
              "    </tr>\n",
              "    <tr>\n",
              "      <th>75719</th>\n",
              "      <td>1222</td>\n",
              "      <td>gochoo</td>\n",
              "      <td>여기 고수 추가요!</td>\n",
              "      <td>34398</td>\n",
              "      <td>24</td>\n",
              "      <td>22화</td>\n",
              "      <td>http://i1.cartoon.daumcdn.net/svc/image/U03/ca...</td>\n",
              "    </tr>\n",
              "    <tr>\n",
              "      <th>75720</th>\n",
              "      <td>1222</td>\n",
              "      <td>gochoo</td>\n",
              "      <td>여기 고수 추가요!</td>\n",
              "      <td>34494</td>\n",
              "      <td>25</td>\n",
              "      <td>에필로그</td>\n",
              "      <td>http://i1.cartoon.daumcdn.net/svc/image/U03/ca...</td>\n",
              "    </tr>\n",
              "    <tr>\n",
              "      <th>75721</th>\n",
              "      <td>1222</td>\n",
              "      <td>gochoo</td>\n",
              "      <td>여기 고수 추가요!</td>\n",
              "      <td>34611</td>\n",
              "      <td>26</td>\n",
              "      <td>후기</td>\n",
              "      <td>http://i1.cartoon.daumcdn.net/svc/image/U03/ca...</td>\n",
              "    </tr>\n",
              "  </tbody>\n",
              "</table>\n",
              "<p>75722 rows × 7 columns</p>\n",
              "</div>"
            ],
            "text/plain": [
              "      wbt_id wbt_nkname    wbt_name     id episode       title                                            img_url\n",
              "0       1444   vacantly        우두커니  50196       1        프롤로그  http://t1.daumcdn.net/webtoon/op/d0634b71310c2...\n",
              "1       1444   vacantly        우두커니  50197       2      1화 이삿날  http://t1.daumcdn.net/webtoon/op/2b9b44f47e8df...\n",
              "2       1444   vacantly        우두커니  50198       3     2화 꿈이겠지  http://t1.daumcdn.net/webtoon/op/87beb2a0deb96...\n",
              "3       1444   vacantly        우두커니  50199       4       3화 폭우  http://t1.daumcdn.net/webtoon/op/fad8f36885f49...\n",
              "4       1444   vacantly        우두커니  50322       5  4화 아버지의 그림  http://t1.daumcdn.net/webtoon/op/88c19843941d6...\n",
              "...      ...        ...         ...    ...     ...         ...                                                ...\n",
              "75717   1222     gochoo  여기 고수 추가요!  34174      22         20화  http://i1.cartoon.daumcdn.net/svc/image/U03/ca...\n",
              "75718   1222     gochoo  여기 고수 추가요!  34285      23         21화  http://i1.cartoon.daumcdn.net/svc/image/U03/ca...\n",
              "75719   1222     gochoo  여기 고수 추가요!  34398      24         22화  http://i1.cartoon.daumcdn.net/svc/image/U03/ca...\n",
              "75720   1222     gochoo  여기 고수 추가요!  34494      25        에필로그  http://i1.cartoon.daumcdn.net/svc/image/U03/ca...\n",
              "75721   1222     gochoo  여기 고수 추가요!  34611      26          후기  http://i1.cartoon.daumcdn.net/svc/image/U03/ca...\n",
              "\n",
              "[75722 rows x 7 columns]"
            ]
          },
          "metadata": {
            "tags": []
          },
          "execution_count": 11
        }
      ]
    },
    {
      "cell_type": "code",
      "metadata": {
        "id": "sMzl1yPJCuZ4"
      },
      "source": [
        "df2.to_csv(\"D_Webtoon_2_chapters.csv\",index=False)"
      ],
      "execution_count": 13,
      "outputs": []
    }
  ]
}