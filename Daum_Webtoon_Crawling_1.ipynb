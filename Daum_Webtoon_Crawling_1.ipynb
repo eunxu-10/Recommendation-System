{
  "nbformat": 4,
  "nbformat_minor": 0,
  "metadata": {
    "colab": {
      "name": "Daum_Webtoon_Crawling_1",
      "provenance": [],
      "collapsed_sections": []
    },
    "kernelspec": {
      "name": "python3",
      "display_name": "Python 3"
    }
  },
  "cells": [
    {
      "cell_type": "markdown",
      "metadata": {
        "id": "azZS7WsE3Ngg"
      },
      "source": [
        "### 다음 데이터 크롤링 (2021-03-07)\r\n",
        "#### 웹툰정보 크롤링\r\n",
        "* 평점순 웹툰 : http://m.webtoon.daum.net/data/mobile/webtoon?sort=score&page_size=9999&page_no=1\r\n",
        "* 웹툰 이름, 장르, 작가, 게시일, url, 줄거리, 평점, 19금여부, 완결여부 크롤링"
      ]
    },
    {
      "cell_type": "code",
      "metadata": {
        "id": "8YkScOfUWFVc"
      },
      "source": [
        "from IPython.display import clear_output # clear_output() 으로 아웃풋 제거 가능\r\n",
        "from IPython.core.interactiveshell import InteractiveShell\r\n",
        "InteractiveShell.ast_node_interactivity = \"all\"\r\n",
        "\r\n",
        "import pandas as pd\r\n",
        "\r\n",
        "pd.set_option('display.max_columns', 200)\r\n",
        "pd.set_option('display.width', 1000)"
      ],
      "execution_count": null,
      "outputs": []
    },
    {
      "cell_type": "code",
      "metadata": {
        "id": "KSRWyTgYWEK7"
      },
      "source": [
        "# scrapy\r\n",
        "!pip install scrapy"
      ],
      "execution_count": null,
      "outputs": []
    },
    {
      "cell_type": "code",
      "metadata": {
        "id": "fiY4C3EkWujs"
      },
      "source": [
        "import scrapy\r\n",
        "import requests\r\n",
        "from scrapy.http import TextResponse\r\n",
        "import time\r\n",
        "import urllib\r\n",
        "import urllib3"
      ],
      "execution_count": null,
      "outputs": []
    },
    {
      "cell_type": "code",
      "metadata": {
        "id": "S_TOmPA5Mu7D"
      },
      "source": [
        "from pandas.io.json import json_normalize\r\n",
        "\r\n",
        "# 데이터를 가져와서 판다스의 데이터프레임으로 만드는 함수\r\n",
        "def get_data(url):\r\n",
        "    response = requests.get(url)\r\n",
        "    json_info = response.json() # json -> dict 형식으로 알아서 바꿔줌\r\n",
        "    \r\n",
        "    return json_info"
      ],
      "execution_count": null,
      "outputs": []
    },
    {
      "cell_type": "code",
      "metadata": {
        "id": "qU1P0ZdV3ZA9"
      },
      "source": [
        "# 19금 만화도 크롤링하려면 로그인을 해야한다\r\n",
        "\r\n",
        "import getpass\r\n",
        "\r\n",
        "myid = getpass.getpass('input your id : ')\r\n",
        "mypassword = getpass.getpass('input your password : ')\r\n",
        "\r\n",
        "LOGIN_URL = 'https://logins.daum.net/accounts/loginform.do'\r\n",
        "LOGIN_DATA = {\r\n",
        "    'id': myid,\r\n",
        "    'inputPwd': mypassword\r\n",
        "}\r\n",
        "with requests.Session() as s:\r\n",
        "    res = s.post(LOGIN_URL, data=LOGIN_DATA, verify=False, allow_redirects=False)\r\n",
        "\r\n",
        "    print(res.status_code)"
      ],
      "execution_count": null,
      "outputs": []
    },
    {
      "cell_type": "code",
      "metadata": {
        "id": "f2TLXrh13cRZ"
      },
      "source": [
        "# 평점순 웹툰url\r\n",
        "# url = 'http://m.webtoon.daum.net/data/mobile/webtoon?sort=score&page_size=50&page_no=1&1615108397290'\r\n",
        "\r\n",
        "# -> page_size=9999(9999번까지) & page_no=1(1페이지로)\r\n",
        "url1 = 'http://m.webtoon.daum.net/data/mobile/webtoon?sort=score&page_size=9999&page_no=1'\r\n",
        "wbtn_raw1 = get_data(url1)\r\n",
        "# wbtn_raw1"
      ],
      "execution_count": null,
      "outputs": []
    },
    {
      "cell_type": "code",
      "metadata": {
        "id": "7pIq8SKH3g2Q"
      },
      "source": [
        "wbt1_df = pd.DataFrame(columns = ['id', 'nickname', 'webtoonType', 'title', 'englishTitle', 'finishYn', 'titleImage2', 'thumbnailImage', 'thumbnailImage2', 'padThumbnailImage', 'artistCommentImage', 'homeThumbnailImage', 'appThumbnailImage', 'pcThumbnailImage', 'pcRecommendImage', 'pcHomeImage', 'pcHomeRightImage', 'pcHomeLeftColor', 'pcHomeRightColor', 'introduction', 'startDate', 'finishDate', 'restartDate', 'serviceStatus', 'viewerType', 'weekTerm', 'articleId', 'media', 'url', 'simpleUrl', 'webtoonGroupId', 'payYn', 'payType', 'price', 'ageGrade', 'restYn', 'monopolize', 'dateCreated', 'webtoonComment', 'cartoon', 'cp', 'webtoonWeeks', 'webtoonEpisodes', 'previewWebtoonEpisodes', 'latestWebtoonEpisode', 'webtoonServices', 'relatedProducts', 'promotionContents', 'score', 'tag', 'isNew', 'averageScore', 'seriesYn', 'ranking', 'diff', 'metricsScore', 'eventBanners', 'sort', 'sortWeight', 'gidamoo', 'webtoonNotice', 'couponAvailable'])\r\n",
        "\r\n",
        "for data in wbtn_raw1['data']['webtoons']:\r\n",
        "    wbt1_df.loc[len(wbt1_df)] = data\r\n",
        "\r\n",
        "# wbt1_df.head(20)"
      ],
      "execution_count": null,
      "outputs": []
    },
    {
      "cell_type": "code",
      "metadata": {
        "id": "nfojoywJHRrS"
      },
      "source": [
        "# # NaN,None값으로만 이루어진 column\r\n",
        "# nulldf = wbt1_df.isnull().sum()>=603\r\n",
        "# nulldf[nulldf==False].keys()"
      ],
      "execution_count": null,
      "outputs": []
    },
    {
      "cell_type": "markdown",
      "metadata": {
        "id": "8yK4PfAmTcrP"
      },
      "source": [
        "한 개의 column선택\r\n",
        "* df[\"account\"]\r\n",
        "\r\n",
        "1개 이상의 column 선택\r\n",
        "* df[[\"account\", \"street\", \"state\"]]"
      ]
    },
    {
      "cell_type": "code",
      "metadata": {
        "id": "-0X45yPrWILo"
      },
      "source": [
        "# chkdf = wbt1_df['isNew']==False\r\n",
        "# len(chkdf[chkdf==True].keys())"
      ],
      "execution_count": null,
      "outputs": []
    },
    {
      "cell_type": "code",
      "metadata": {
        "id": "3nXiTRU-LrYc"
      },
      "source": [
        "wbt1_df2 = wbt1_df[['id', 'nickname', #웹툰 닉네임\r\n",
        "                    'title', 'finishYn', 'thumbnailImage2', #'appThumbnailImage', \r\n",
        "                    #'viewerType', #(1206개중 1172개가 scroll) 'articleId', 'price' (1206개 다 0), \r\n",
        "                    'ageGrade', # (1206개중 1004개 0) #'restYn', # (1206개중 1153개가 'N') -> 휴재 여부인 듯\r\n",
        "                    'dateCreated', 'cartoon', 'latestWebtoonEpisode', 'webtoonServices', 'averageScore'\r\n",
        "                    # 'score',(1206개 다 0) #'isNew', # 신작 여부인 듯 'ranking', 'diff', 'metricsScore', 'sortWeight', 'couponAvailable'\r\n",
        "        ]]\r\n",
        "# wbt1_df2"
      ],
      "execution_count": null,
      "outputs": []
    },
    {
      "cell_type": "code",
      "metadata": {
        "id": "eiNSOBmM4eCn"
      },
      "source": [
        "# 썸네일 이미지 링크 정제\r\n",
        "\r\n",
        "new_temp = pd.DataFrame(columns=['url'])\r\n",
        "for data in wbt1_df2['thumbnailImage2']:\r\n",
        "    new_temp.loc[len(new_temp)] = data['url']\r\n",
        "# new_temp.tail()"
      ],
      "execution_count": null,
      "outputs": []
    },
    {
      "cell_type": "code",
      "metadata": {
        "id": "jkR_eOlt4kh_"
      },
      "source": [
        "# 글/그림 작가 모으기\r\n",
        "\r\n",
        "new_temp2 = pd.DataFrame(columns=['artist_name'])\r\n",
        "for data in wbt1_df2['cartoon']:\r\n",
        "    new_temp2.loc[len(new_temp2)] = data['artists'][0]['name']+'/'+data['artists'][1]['name']\r\n",
        "# new_temp2"
      ],
      "execution_count": null,
      "outputs": []
    },
    {
      "cell_type": "code",
      "metadata": {
        "id": "s4XfoJhr4pAq"
      },
      "source": [
        "# 마지막 업로드 일자/ 현재(완료) 회차\r\n",
        "\r\n",
        "new_temp3 = pd.DataFrame(columns=['count_chapter'])\r\n",
        "new_temp4 = pd.DataFrame(columns=['latest_Created'])\r\n",
        "for data in wbt1_df2['latestWebtoonEpisode']:\r\n",
        "    try:\r\n",
        "        new_temp3.loc[len(new_temp3)]= data['episode']\r\n",
        "    except:\r\n",
        "        new_temp3.loc[len(new_temp3)]= None\r\n",
        "    try:\r\n",
        "        new_temp4.loc[len(new_temp4)]= data['dateCreated']\r\n",
        "    except:\r\n",
        "        new_temp4.loc[len(new_temp4)]= None     \r\n",
        "# new_temp3\r\n",
        "# new_temp4"
      ],
      "execution_count": null,
      "outputs": []
    },
    {
      "cell_type": "code",
      "metadata": {
        "id": "JVkxCqD14tdG"
      },
      "source": [
        "df = wbt1_df2[['id', 'nickname', 'title', 'finishYn', 'ageGrade', 'dateCreated', 'averageScore']]\r\n",
        "df['artist']=new_temp2\r\n",
        "df['latest_upload']=new_temp4\r\n",
        "df['last_chapter']=new_temp3\r\n",
        "df['img_url']=new_temp\r\n",
        "# df"
      ],
      "execution_count": null,
      "outputs": []
    },
    {
      "cell_type": "code",
      "metadata": {
        "id": "EzvfP-Qp43yU"
      },
      "source": [
        "# 장르/카테고리, 소개글, 자동수집\r\n",
        "\r\n",
        "intro = []\r\n",
        "genres = []\r\n",
        "categories = []\r\n",
        "print('trying to getting datas from Daum Webtoon...', end='')\r\n",
        "for i, data in df.iterrows():\r\n",
        "    url2 = 'http://webtoon.daum.net/data/pc/webtoon/view/'+data['nickname']\r\n",
        "    temp_df= get_data(url2)\r\n",
        "    try:\r\n",
        "        intro.append(temp_df['data']['webtoon']['introduction'])\r\n",
        "    except:\r\n",
        "        intro.append(None)\r\n",
        "    gs=[]\r\n",
        "    try:\r\n",
        "        for data in temp_df['data']['webtoon']['cartoon']['genres']:\r\n",
        "            gs.append(data['name'])\r\n",
        "        gs_text = '/'.join(gs)\r\n",
        "        genres.append(gs_text)\r\n",
        "    except:\r\n",
        "        genres.append(None)\r\n",
        "    ls = []\r\n",
        "    try:\r\n",
        "        for data in temp_df['data']['webtoon']['cartoon']['categories']:\r\n",
        "            ls.append(data['name'])\r\n",
        "        tmp_text = '/'.join(ls)\r\n",
        "        categories.append(tmp_text)\r\n",
        "    except:\r\n",
        "        categories.append(None)\r\n",
        "    print(i,\".\", end='')\r\n",
        "print(\"Crawling complete!\")\r\n",
        "\r\n",
        "df['intro'] = pd.Series(intro)\r\n",
        "df['genres'] = pd.Series(genres)\r\n",
        "df['categories'] = pd.Series(categories)\r\n",
        "# df"
      ],
      "execution_count": null,
      "outputs": []
    },
    {
      "cell_type": "code",
      "metadata": {
        "id": "lP0Hla5ZIHkV"
      },
      "source": [
        "# 웹툰 url\r\n",
        "\r\n",
        "w_url = []\r\n",
        "for i, data in df.iterrows():\r\n",
        "    w_url.append('http://webtoon.daum.net/webtoon/view/'+data['nickname'])\r\n",
        "\r\n",
        "df['page url'] = pd.Series(w_url)\r\n",
        "# df"
      ],
      "execution_count": null,
      "outputs": []
    },
    {
      "cell_type": "code",
      "metadata": {
        "id": "DOKc3c895CDN"
      },
      "source": [
        "df.to_csv(\"D_Webtoon_1_toonsinfo.csv\",index=False)"
      ],
      "execution_count": null,
      "outputs": []
    }
  ]
}