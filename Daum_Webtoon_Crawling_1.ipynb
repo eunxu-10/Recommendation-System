{
  "nbformat": 4,
  "nbformat_minor": 0,
  "metadata": {
    "colab": {
      "name": "Daum_Webtoon_Crawling_1",
      "provenance": [],
      "collapsed_sections": []
    },
    "kernelspec": {
      "name": "python3",
      "display_name": "Python 3"
    }
  },
  "cells": [
    {
      "cell_type": "markdown",
      "metadata": {
        "id": "azZS7WsE3Ngg"
      },
      "source": [
        "### 다음 데이터 크롤링 (2021-03-07)\r\n",
        "#### 웹툰정보 크롤링\r\n",
        "* 평점순 웹툰 : http://m.webtoon.daum.net/data/mobile/webtoon?sort=score&page_size=9999&page_no=1\r\n",
        "* 웹툰 이름, 장르, 작가, 게시일, url, 줄거리, 평점, 19금여부, 완결여부 크롤링"
      ]
    },
    {
      "cell_type": "code",
      "metadata": {
        "id": "8YkScOfUWFVc"
      },
      "source": [
        "from IPython.display import clear_output # clear_output() 으로 아웃풋 제거 가능\r\n",
        "from IPython.core.interactiveshell import InteractiveShell\r\n",
        "InteractiveShell.ast_node_interactivity = \"all\"\r\n",
        "\r\n",
        "import pandas as pd\r\n",
        "\r\n",
        "pd.set_option('display.max_columns', 200)\r\n",
        "pd.set_option('display.width', 1000)"
      ],
      "execution_count": 1,
      "outputs": []
    },
    {
      "cell_type": "code",
      "metadata": {
        "colab": {
          "base_uri": "https://localhost:8080/"
        },
        "id": "KSRWyTgYWEK7",
        "outputId": "a446d4ab-a082-40f4-8340-26b7319dab26"
      },
      "source": [
        "# scrapy\r\n",
        "!pip install scrapy"
      ],
      "execution_count": 2,
      "outputs": [
        {
          "output_type": "stream",
          "text": [
            "Collecting scrapy\n",
            "\u001b[?25l  Downloading https://files.pythonhosted.org/packages/3a/16/3c7c37caf25f91aa21db194655515718c2a15f704f9f5c59a194f5c83db0/Scrapy-2.4.1-py2.py3-none-any.whl (239kB)\n",
            "\r\u001b[K     |█▍                              | 10kB 10.5MB/s eta 0:00:01\r\u001b[K     |██▊                             | 20kB 15.6MB/s eta 0:00:01\r\u001b[K     |████                            | 30kB 9.7MB/s eta 0:00:01\r\u001b[K     |█████▌                          | 40kB 7.6MB/s eta 0:00:01\r\u001b[K     |██████▉                         | 51kB 4.4MB/s eta 0:00:01\r\u001b[K     |████████▏                       | 61kB 5.0MB/s eta 0:00:01\r\u001b[K     |█████████▋                      | 71kB 4.9MB/s eta 0:00:01\r\u001b[K     |███████████                     | 81kB 5.4MB/s eta 0:00:01\r\u001b[K     |████████████▎                   | 92kB 5.4MB/s eta 0:00:01\r\u001b[K     |█████████████▊                  | 102kB 5.5MB/s eta 0:00:01\r\u001b[K     |███████████████                 | 112kB 5.5MB/s eta 0:00:01\r\u001b[K     |████████████████▍               | 122kB 5.5MB/s eta 0:00:01\r\u001b[K     |█████████████████▊              | 133kB 5.5MB/s eta 0:00:01\r\u001b[K     |███████████████████▏            | 143kB 5.5MB/s eta 0:00:01\r\u001b[K     |████████████████████▌           | 153kB 5.5MB/s eta 0:00:01\r\u001b[K     |█████████████████████▉          | 163kB 5.5MB/s eta 0:00:01\r\u001b[K     |███████████████████████▎        | 174kB 5.5MB/s eta 0:00:01\r\u001b[K     |████████████████████████▋       | 184kB 5.5MB/s eta 0:00:01\r\u001b[K     |██████████████████████████      | 194kB 5.5MB/s eta 0:00:01\r\u001b[K     |███████████████████████████▍    | 204kB 5.5MB/s eta 0:00:01\r\u001b[K     |████████████████████████████▊   | 215kB 5.5MB/s eta 0:00:01\r\u001b[K     |██████████████████████████████  | 225kB 5.5MB/s eta 0:00:01\r\u001b[K     |███████████████████████████████▍| 235kB 5.5MB/s eta 0:00:01\r\u001b[K     |████████████████████████████████| 245kB 5.5MB/s \n",
            "\u001b[?25hCollecting itemadapter>=0.1.0\n",
            "  Downloading https://files.pythonhosted.org/packages/88/83/ab33780fd93278e699561d61862d27343c95d3fe0a0081acd73e8e26a649/itemadapter-0.2.0-py3-none-any.whl\n",
            "Collecting cryptography>=2.0\n",
            "\u001b[?25l  Downloading https://files.pythonhosted.org/packages/f8/1f/acde6ff69864c5e78b56488e3afd93c1ccc8c2651186e2a5f93d93f64859/cryptography-3.4.6-cp36-abi3-manylinux2014_x86_64.whl (3.2MB)\n",
            "\u001b[K     |████████████████████████████████| 3.2MB 7.3MB/s \n",
            "\u001b[?25hCollecting pyOpenSSL>=16.2.0\n",
            "\u001b[?25l  Downloading https://files.pythonhosted.org/packages/b2/5e/06351ede29fd4899782ad335c2e02f1f862a887c20a3541f17c3fa1a3525/pyOpenSSL-20.0.1-py2.py3-none-any.whl (54kB)\n",
            "\u001b[K     |████████████████████████████████| 61kB 5.5MB/s \n",
            "\u001b[?25hCollecting w3lib>=1.17.0\n",
            "  Downloading https://files.pythonhosted.org/packages/a3/59/b6b14521090e7f42669cafdb84b0ab89301a42f1f1a82fcf5856661ea3a7/w3lib-1.22.0-py2.py3-none-any.whl\n",
            "Collecting protego>=0.1.15\n",
            "\u001b[?25l  Downloading https://files.pythonhosted.org/packages/db/6e/bf6d5e4d7cf233b785719aaec2c38f027b9c2ed980a0015ec1a1cced4893/Protego-0.1.16.tar.gz (3.2MB)\n",
            "\u001b[K     |████████████████████████████████| 3.2MB 30.1MB/s \n",
            "\u001b[?25hCollecting service-identity>=16.0.0\n",
            "  Downloading https://files.pythonhosted.org/packages/e9/7c/2195b890023e098f9618d43ebc337d83c8b38d414326685339eb024db2f6/service_identity-18.1.0-py2.py3-none-any.whl\n",
            "Collecting itemloaders>=1.0.1\n",
            "  Downloading https://files.pythonhosted.org/packages/b3/2b/eb2ddf7becf834679273a6f79ffdc6fbedf07c5272e2eddf412582143c0e/itemloaders-1.0.4-py3-none-any.whl\n",
            "Collecting queuelib>=1.4.2\n",
            "  Downloading https://files.pythonhosted.org/packages/4c/85/ae64e9145f39dd6d14f8af3fa809a270ef3729f3b90b3c0cf5aa242ab0d4/queuelib-1.5.0-py2.py3-none-any.whl\n",
            "Collecting PyDispatcher>=2.0.5\n",
            "  Downloading https://files.pythonhosted.org/packages/cd/37/39aca520918ce1935bea9c356bcbb7ed7e52ad4e31bff9b943dfc8e7115b/PyDispatcher-2.0.5.tar.gz\n",
            "Collecting zope.interface>=4.1.3\n",
            "\u001b[?25l  Downloading https://files.pythonhosted.org/packages/f8/42/d8f11eaef844bee267821281fffe445e49cf31b486d72a81821a9d45cd0a/zope.interface-5.2.0-cp37-cp37m-manylinux2010_x86_64.whl (237kB)\n",
            "\u001b[K     |████████████████████████████████| 245kB 40.7MB/s \n",
            "\u001b[?25hCollecting parsel>=1.5.0\n",
            "  Downloading https://files.pythonhosted.org/packages/23/1e/9b39d64cbab79d4362cdd7be7f5e9623d45c4a53b3f7522cd8210df52d8e/parsel-1.6.0-py2.py3-none-any.whl\n",
            "Requirement already satisfied: lxml>=3.5.0; platform_python_implementation == \"CPython\" in /usr/local/lib/python3.7/dist-packages (from scrapy) (4.2.6)\n",
            "Collecting Twisted>=17.9.0\n",
            "\u001b[?25l  Downloading https://files.pythonhosted.org/packages/f2/16/3eb9c66a7bfb5220c7bcbaaac33d359fe8a157b028959cd210983749b2e0/Twisted-21.2.0-py3-none-any.whl (3.1MB)\n",
            "\u001b[K     |████████████████████████████████| 3.1MB 47.5MB/s \n",
            "\u001b[?25hCollecting cssselect>=0.9.1\n",
            "  Downloading https://files.pythonhosted.org/packages/3b/d4/3b5c17f00cce85b9a1e6f91096e1cc8e8ede2e1be8e96b87ce1ed09e92c5/cssselect-1.1.0-py2.py3-none-any.whl\n",
            "Requirement already satisfied: cffi>=1.12 in /usr/local/lib/python3.7/dist-packages (from cryptography>=2.0->scrapy) (1.14.5)\n",
            "Requirement already satisfied: six>=1.5.2 in /usr/local/lib/python3.7/dist-packages (from pyOpenSSL>=16.2.0->scrapy) (1.15.0)\n",
            "Requirement already satisfied: pyasn1-modules in /usr/local/lib/python3.7/dist-packages (from service-identity>=16.0.0->scrapy) (0.2.8)\n",
            "Requirement already satisfied: attrs>=16.0.0 in /usr/local/lib/python3.7/dist-packages (from service-identity>=16.0.0->scrapy) (20.3.0)\n",
            "Requirement already satisfied: pyasn1 in /usr/local/lib/python3.7/dist-packages (from service-identity>=16.0.0->scrapy) (0.4.8)\n",
            "Collecting jmespath>=0.9.5\n",
            "  Downloading https://files.pythonhosted.org/packages/07/cb/5f001272b6faeb23c1c9e0acc04d48eaaf5c862c17709d20e3469c6e0139/jmespath-0.10.0-py2.py3-none-any.whl\n",
            "Requirement already satisfied: setuptools in /usr/local/lib/python3.7/dist-packages (from zope.interface>=4.1.3->scrapy) (54.0.0)\n",
            "Collecting hyperlink>=17.1.1\n",
            "\u001b[?25l  Downloading https://files.pythonhosted.org/packages/6e/aa/8caf6a0a3e62863cbb9dab27135660acba46903b703e224f14f447e57934/hyperlink-21.0.0-py2.py3-none-any.whl (74kB)\n",
            "\u001b[K     |████████████████████████████████| 81kB 8.0MB/s \n",
            "\u001b[?25hCollecting Automat>=0.8.0\n",
            "  Downloading https://files.pythonhosted.org/packages/dd/83/5f6f3c1a562674d65efc320257bdc0873ec53147835aeef7762fe7585273/Automat-20.2.0-py2.py3-none-any.whl\n",
            "Collecting constantly>=15.1\n",
            "  Downloading https://files.pythonhosted.org/packages/b9/65/48c1909d0c0aeae6c10213340ce682db01b48ea900a7d9fce7a7910ff318/constantly-15.1.0-py2.py3-none-any.whl\n",
            "Collecting incremental>=16.10.1\n",
            "  Downloading https://files.pythonhosted.org/packages/99/3b/4f80dd10cb716f3a9e22ae88f026d25c47cc3fdf82c2747f3d59c98e4ff1/incremental-21.3.0-py2.py3-none-any.whl\n",
            "Requirement already satisfied: pycparser in /usr/local/lib/python3.7/dist-packages (from cffi>=1.12->cryptography>=2.0->scrapy) (2.20)\n",
            "Requirement already satisfied: idna>=2.5 in /usr/local/lib/python3.7/dist-packages (from hyperlink>=17.1.1->Twisted>=17.9.0->scrapy) (2.10)\n",
            "Building wheels for collected packages: protego, PyDispatcher\n",
            "  Building wheel for protego (setup.py) ... \u001b[?25l\u001b[?25hdone\n",
            "  Created wheel for protego: filename=Protego-0.1.16-cp37-none-any.whl size=7766 sha256=45995b2922ff2d24c306ed5a83b84d7c3ceccd8443c61f442fa04d6e7f90e8fd\n",
            "  Stored in directory: /root/.cache/pip/wheels/51/01/d1/4a2286a976dccd025ba679acacfe37320540df0f2283ecab12\n",
            "  Building wheel for PyDispatcher (setup.py) ... \u001b[?25l\u001b[?25hdone\n",
            "  Created wheel for PyDispatcher: filename=PyDispatcher-2.0.5-cp37-none-any.whl size=11517 sha256=07ebc138e812f3c176f0eb1e147b1765aa188aaae47f3791fe898b74168cc199\n",
            "  Stored in directory: /root/.cache/pip/wheels/88/99/96/cfef6665f9cb1522ee6757ae5955feedf2fe25f1737f91fa7f\n",
            "Successfully built protego PyDispatcher\n",
            "Installing collected packages: itemadapter, cryptography, pyOpenSSL, w3lib, protego, service-identity, cssselect, parsel, jmespath, itemloaders, queuelib, PyDispatcher, zope.interface, hyperlink, Automat, constantly, incremental, Twisted, scrapy\n",
            "Successfully installed Automat-20.2.0 PyDispatcher-2.0.5 Twisted-21.2.0 constantly-15.1.0 cryptography-3.4.6 cssselect-1.1.0 hyperlink-21.0.0 incremental-21.3.0 itemadapter-0.2.0 itemloaders-1.0.4 jmespath-0.10.0 parsel-1.6.0 protego-0.1.16 pyOpenSSL-20.0.1 queuelib-1.5.0 scrapy-2.4.1 service-identity-18.1.0 w3lib-1.22.0 zope.interface-5.2.0\n"
          ],
          "name": "stdout"
        }
      ]
    },
    {
      "cell_type": "code",
      "metadata": {
        "id": "fiY4C3EkWujs"
      },
      "source": [
        "import scrapy\r\n",
        "import requests\r\n",
        "from scrapy.http import TextResponse\r\n",
        "import time\r\n",
        "import urllib\r\n",
        "import urllib3"
      ],
      "execution_count": 3,
      "outputs": []
    },
    {
      "cell_type": "code",
      "metadata": {
        "id": "S_TOmPA5Mu7D"
      },
      "source": [
        "from pandas.io.json import json_normalize\r\n",
        "\r\n",
        "# 데이터를 가져와서 판다스의 데이터프레임으로 만드는 함수\r\n",
        "def get_data(url):\r\n",
        "    response = requests.get(url)\r\n",
        "    json_info = response.json() # json -> dict 형식으로 알아서 바꿔줌\r\n",
        "    \r\n",
        "    return json_info"
      ],
      "execution_count": 4,
      "outputs": []
    },
    {
      "cell_type": "code",
      "metadata": {
        "id": "qU1P0ZdV3ZA9",
        "colab": {
          "base_uri": "https://localhost:8080/"
        },
        "outputId": "4e66fb32-714a-4a9c-b66d-06a6917075b4"
      },
      "source": [
        "# 19금 만화도 크롤링하려면 로그인을 해야한다\r\n",
        "\r\n",
        "import getpass\r\n",
        "\r\n",
        "myid = getpass.getpass('input your id : ')\r\n",
        "mypassword = getpass.getpass('input your password : ')\r\n",
        "\r\n",
        "LOGIN_URL = 'https://logins.daum.net/accounts/loginform.do'\r\n",
        "LOGIN_DATA = {\r\n",
        "    'id': myid,\r\n",
        "    'inputPwd': mypassword\r\n",
        "}\r\n",
        "with requests.Session() as s:\r\n",
        "    res = s.post(LOGIN_URL, data=LOGIN_DATA, verify=False, allow_redirects=False)\r\n",
        "\r\n",
        "    print(res.status_code)"
      ],
      "execution_count": 5,
      "outputs": [
        {
          "output_type": "stream",
          "text": [
            "input your id : ··········\n",
            "input your password : ··········\n",
            "200\n"
          ],
          "name": "stdout"
        },
        {
          "output_type": "stream",
          "text": [
            "/usr/local/lib/python3.7/dist-packages/urllib3/connectionpool.py:847: InsecureRequestWarning: Unverified HTTPS request is being made. Adding certificate verification is strongly advised. See: https://urllib3.readthedocs.io/en/latest/advanced-usage.html#ssl-warnings\n",
            "  InsecureRequestWarning)\n"
          ],
          "name": "stderr"
        }
      ]
    },
    {
      "cell_type": "code",
      "metadata": {
        "id": "f2TLXrh13cRZ"
      },
      "source": [
        "# 평점순 웹툰url\r\n",
        "# url = 'http://m.webtoon.daum.net/data/mobile/webtoon?sort=score&page_size=50&page_no=1&1615108397290'\r\n",
        "\r\n",
        "# -> page_size=9999(9999번까지) & page_no=1(1페이지로)\r\n",
        "url1 = 'http://m.webtoon.daum.net/data/mobile/webtoon?sort=score&page_size=9999&page_no=1'\r\n",
        "wbtn_raw1 = get_data(url1)\r\n",
        "# wbtn_raw1"
      ],
      "execution_count": 6,
      "outputs": []
    },
    {
      "cell_type": "code",
      "metadata": {
        "id": "7pIq8SKH3g2Q"
      },
      "source": [
        "wbt1_df = pd.DataFrame(columns = ['id', 'nickname', 'webtoonType', 'title', 'englishTitle', 'finishYn', 'titleImage2', 'thumbnailImage', 'thumbnailImage2', 'padThumbnailImage', 'artistCommentImage', 'homeThumbnailImage', 'appThumbnailImage', 'pcThumbnailImage', 'pcRecommendImage', 'pcHomeImage', 'pcHomeRightImage', 'pcHomeLeftColor', 'pcHomeRightColor', 'introduction', 'startDate', 'finishDate', 'restartDate', 'serviceStatus', 'viewerType', 'weekTerm', 'articleId', 'media', 'url', 'simpleUrl', 'webtoonGroupId', 'payYn', 'payType', 'price', 'ageGrade', 'restYn', 'monopolize', 'dateCreated', 'webtoonComment', 'cartoon', 'cp', 'webtoonWeeks', 'webtoonEpisodes', 'previewWebtoonEpisodes', 'latestWebtoonEpisode', 'webtoonServices', 'relatedProducts', 'promotionContents', 'score', 'tag', 'isNew', 'averageScore', 'seriesYn', 'ranking', 'diff', 'metricsScore', 'eventBanners', 'sort', 'sortWeight', 'gidamoo', 'webtoonNotice', 'couponAvailable'])\r\n",
        "\r\n",
        "for data in wbtn_raw1['data']['webtoons']:\r\n",
        "    wbt1_df.loc[len(wbt1_df)] = data\r\n",
        "\r\n",
        "# wbt1_df.head(20)"
      ],
      "execution_count": 7,
      "outputs": []
    },
    {
      "cell_type": "code",
      "metadata": {
        "id": "nfojoywJHRrS"
      },
      "source": [
        "# # NaN,None값으로만 이루어진 column\r\n",
        "# nulldf = wbt1_df.isnull().sum()>=603\r\n",
        "# nulldf[nulldf==False].keys()"
      ],
      "execution_count": null,
      "outputs": []
    },
    {
      "cell_type": "markdown",
      "metadata": {
        "id": "8yK4PfAmTcrP"
      },
      "source": [
        "한 개의 column선택\r\n",
        "* df[\"account\"]\r\n",
        "\r\n",
        "1개 이상의 column 선택\r\n",
        "* df[[\"account\", \"street\", \"state\"]]"
      ]
    },
    {
      "cell_type": "code",
      "metadata": {
        "id": "-0X45yPrWILo"
      },
      "source": [
        "# chkdf = wbt1_df['isNew']==False\r\n",
        "# len(chkdf[chkdf==True].keys())"
      ],
      "execution_count": null,
      "outputs": []
    },
    {
      "cell_type": "code",
      "metadata": {
        "id": "3nXiTRU-LrYc"
      },
      "source": [
        "wbt1_df2 = wbt1_df[['id', 'nickname', #웹툰 닉네임\r\n",
        "                    'title', 'finishYn', 'thumbnailImage2', #'appThumbnailImage', \r\n",
        "                    #'viewerType', #(1206개중 1172개가 scroll) 'articleId', 'price' (1206개 다 0), \r\n",
        "                    'ageGrade', # (1206개중 1004개 0) #'restYn', # (1206개중 1153개가 'N') -> 휴재 여부인 듯\r\n",
        "                    'dateCreated', 'cartoon', 'latestWebtoonEpisode', 'webtoonServices', 'averageScore'\r\n",
        "                    # 'score',(1206개 다 0) #'isNew', # 신작 여부인 듯 'ranking', 'diff', 'metricsScore', 'sortWeight', 'couponAvailable'\r\n",
        "        ]]\r\n",
        "# wbt1_df2"
      ],
      "execution_count": 8,
      "outputs": []
    },
    {
      "cell_type": "code",
      "metadata": {
        "id": "eiNSOBmM4eCn"
      },
      "source": [
        "# 썸네일 이미지 링크 정제\r\n",
        "\r\n",
        "new_temp = pd.DataFrame(columns=['url'])\r\n",
        "for data in wbt1_df2['thumbnailImage2']:\r\n",
        "    new_temp.loc[len(new_temp)] = data['url']\r\n",
        "# new_temp.tail()"
      ],
      "execution_count": 9,
      "outputs": []
    },
    {
      "cell_type": "code",
      "metadata": {
        "id": "jkR_eOlt4kh_"
      },
      "source": [
        "# 글/그림 작가 모으기\r\n",
        "\r\n",
        "new_temp2 = pd.DataFrame(columns=['artist_name'])\r\n",
        "for data in wbt1_df2['cartoon']:\r\n",
        "    new_temp2.loc[len(new_temp2)] = data['artists'][0]['name']+'/'+data['artists'][1]['name']\r\n",
        "# new_temp2"
      ],
      "execution_count": 10,
      "outputs": []
    },
    {
      "cell_type": "code",
      "metadata": {
        "id": "s4XfoJhr4pAq"
      },
      "source": [
        "# 마지막 업로드 일자/ 현재(완료) 회차\r\n",
        "\r\n",
        "new_temp3 = pd.DataFrame(columns=['count_chapter'])\r\n",
        "new_temp4 = pd.DataFrame(columns=['latest_Created'])\r\n",
        "for data in wbt1_df2['latestWebtoonEpisode']:\r\n",
        "    try:\r\n",
        "        new_temp3.loc[len(new_temp3)]= data['episode']\r\n",
        "    except:\r\n",
        "        new_temp3.loc[len(new_temp3)]= None\r\n",
        "    try:\r\n",
        "        new_temp4.loc[len(new_temp4)]= data['dateCreated']\r\n",
        "    except:\r\n",
        "        new_temp4.loc[len(new_temp4)]= None     \r\n",
        "# new_temp3\r\n",
        "# new_temp4"
      ],
      "execution_count": 11,
      "outputs": []
    },
    {
      "cell_type": "code",
      "metadata": {
        "id": "JVkxCqD14tdG",
        "colab": {
          "base_uri": "https://localhost:8080/"
        },
        "outputId": "d6a9aa6c-79e2-473a-80dc-49c575a41e99"
      },
      "source": [
        "df = wbt1_df2[['id', 'nickname', 'title', 'finishYn', 'ageGrade', 'dateCreated', 'averageScore']]\r\n",
        "df['artist']=new_temp2\r\n",
        "df['latest_upload']=new_temp4\r\n",
        "df['last_chapter']=new_temp3\r\n",
        "df['img_url']=new_temp\r\n",
        "# df"
      ],
      "execution_count": 12,
      "outputs": [
        {
          "output_type": "stream",
          "text": [
            "/usr/local/lib/python3.7/dist-packages/ipykernel_launcher.py:2: SettingWithCopyWarning: \n",
            "A value is trying to be set on a copy of a slice from a DataFrame.\n",
            "Try using .loc[row_indexer,col_indexer] = value instead\n",
            "\n",
            "See the caveats in the documentation: https://pandas.pydata.org/pandas-docs/stable/user_guide/indexing.html#returning-a-view-versus-a-copy\n",
            "  \n",
            "/usr/local/lib/python3.7/dist-packages/ipykernel_launcher.py:3: SettingWithCopyWarning: \n",
            "A value is trying to be set on a copy of a slice from a DataFrame.\n",
            "Try using .loc[row_indexer,col_indexer] = value instead\n",
            "\n",
            "See the caveats in the documentation: https://pandas.pydata.org/pandas-docs/stable/user_guide/indexing.html#returning-a-view-versus-a-copy\n",
            "  This is separate from the ipykernel package so we can avoid doing imports until\n",
            "/usr/local/lib/python3.7/dist-packages/ipykernel_launcher.py:4: SettingWithCopyWarning: \n",
            "A value is trying to be set on a copy of a slice from a DataFrame.\n",
            "Try using .loc[row_indexer,col_indexer] = value instead\n",
            "\n",
            "See the caveats in the documentation: https://pandas.pydata.org/pandas-docs/stable/user_guide/indexing.html#returning-a-view-versus-a-copy\n",
            "  after removing the cwd from sys.path.\n"
          ],
          "name": "stderr"
        }
      ]
    },
    {
      "cell_type": "code",
      "metadata": {
        "id": "EzvfP-Qp43yU",
        "colab": {
          "base_uri": "https://localhost:8080/"
        },
        "outputId": "db896dba-1b79-41fb-e310-a130580c765c"
      },
      "source": [
        "# 장르/카테고리, 소개글, 자동수집\r\n",
        "\r\n",
        "intro = []\r\n",
        "genres = []\r\n",
        "categories = []\r\n",
        "print('trying to getting datas from Daum Webtoon...', end='')\r\n",
        "for i, data in df.iterrows():\r\n",
        "    url2 = 'http://webtoon.daum.net/data/pc/webtoon/view/'+data['nickname']\r\n",
        "    temp_df= get_data(url2)\r\n",
        "    try:\r\n",
        "        intro.append(temp_df['data']['webtoon']['introduction'])\r\n",
        "    except:\r\n",
        "        intro.append(None)\r\n",
        "    gs=[]\r\n",
        "    try:\r\n",
        "        for data in temp_df['data']['webtoon']['cartoon']['genres']:\r\n",
        "            gs.append(data['name'])\r\n",
        "        gs_text = '/'.join(gs)\r\n",
        "        genres.append(gs_text)\r\n",
        "    except:\r\n",
        "        genres.append(None)\r\n",
        "    ls = []\r\n",
        "    try:\r\n",
        "        for data in temp_df['data']['webtoon']['cartoon']['categories']:\r\n",
        "            ls.append(data['name'])\r\n",
        "        tmp_text = '/'.join(ls)\r\n",
        "        categories.append(tmp_text)\r\n",
        "    except:\r\n",
        "        categories.append(None)\r\n",
        "    print(i,\".\", end='')\r\n",
        "print(\"Crawling complete!\")\r\n",
        "\r\n",
        "df['intro'] = pd.Series(intro)\r\n",
        "df['genres'] = pd.Series(genres)\r\n",
        "df['categories'] = pd.Series(categories)\r\n",
        "# df"
      ],
      "execution_count": 13,
      "outputs": [
        {
          "output_type": "stream",
          "text": [
            "trying to getting datas from Daum Webtoon...0 .1 .2 .3 .4 .5 .6 .7 .8 .9 .10 .11 .12 .13 .14 .15 .16 .17 .18 .19 .20 .21 .22 .23 .24 .25 .26 .27 .28 .29 .30 .31 .32 .33 .34 .35 .36 .37 .38 .39 .40 .41 .42 .43 .44 .45 .46 .47 .48 .49 .50 .51 .52 .53 .54 .55 .56 .57 .58 .59 .60 .61 .62 .63 .64 .65 .66 .67 .68 .69 .70 .71 .72 .73 .74 .75 .76 .77 .78 .79 .80 .81 .82 .83 .84 .85 .86 .87 .88 .89 .90 .91 .92 .93 .94 .95 .96 .97 .98 .99 .100 .101 .102 .103 .104 .105 .106 .107 .108 .109 .110 .111 .112 .113 .114 .115 .116 .117 .118 .119 .120 .121 .122 .123 .124 .125 .126 .127 .128 .129 .130 .131 .132 .133 .134 .135 .136 .137 .138 .139 .140 .141 .142 .143 .144 .145 .146 .147 .148 .149 .150 .151 .152 .153 .154 .155 .156 .157 .158 .159 .160 .161 .162 .163 .164 .165 .166 .167 .168 .169 .170 .171 .172 .173 .174 .175 .176 .177 .178 .179 .180 .181 .182 .183 .184 .185 .186 .187 .188 .189 .190 .191 .192 .193 .194 .195 .196 .197 .198 .199 .200 .201 .202 .203 .204 .205 .206 .207 .208 .209 .210 .211 .212 .213 .214 .215 .216 .217 .218 .219 .220 .221 .222 .223 .224 .225 .226 .227 .228 .229 .230 .231 .232 .233 .234 .235 .236 .237 .238 .239 .240 .241 .242 .243 .244 .245 .246 .247 .248 .249 .250 .251 .252 .253 .254 .255 .256 .257 .258 .259 .260 .261 .262 .263 .264 .265 .266 .267 .268 .269 .270 .271 .272 .273 .274 .275 .276 .277 .278 .279 .280 .281 .282 .283 .284 .285 .286 .287 .288 .289 .290 .291 .292 .293 .294 .295 .296 .297 .298 .299 .300 .301 .302 .303 .304 .305 .306 .307 .308 .309 .310 .311 .312 .313 .314 .315 .316 .317 .318 .319 .320 .321 .322 .323 .324 .325 .326 .327 .328 .329 .330 .331 .332 .333 .334 .335 .336 .337 .338 .339 .340 .341 .342 .343 .344 .345 .346 .347 .348 .349 .350 .351 .352 .353 .354 .355 .356 .357 .358 .359 .360 .361 .362 .363 .364 .365 .366 .367 .368 .369 .370 .371 .372 .373 .374 .375 .376 .377 .378 .379 .380 .381 .382 .383 .384 .385 .386 .387 .388 .389 .390 .391 .392 .393 .394 .395 .396 .397 .398 .399 .400 .401 .402 .403 .404 .405 .406 .407 .408 .409 .410 .411 .412 .413 .414 .415 .416 .417 .418 .419 .420 .421 .422 .423 .424 .425 .426 .427 .428 .429 .430 .431 .432 .433 .434 .435 .436 .437 .438 .439 .440 .441 .442 .443 .444 .445 .446 .447 .448 .449 .450 .451 .452 .453 .454 .455 .456 .457 .458 .459 .460 .461 .462 .463 .464 .465 .466 .467 .468 .469 .470 .471 .472 .473 .474 .475 .476 .477 .478 .479 .480 .481 .482 .483 .484 .485 .486 .487 .488 .489 .490 .491 .492 .493 .494 .495 .496 .497 .498 .499 .500 .501 .502 .503 .504 .505 .506 .507 .508 .509 .510 .511 .512 .513 .514 .515 .516 .517 .518 .519 .520 .521 .522 .523 .524 .525 .526 .527 .528 .529 .530 .531 .532 .533 .534 .535 .536 .537 .538 .539 .540 .541 .542 .543 .544 .545 .546 .547 .548 .549 .550 .551 .552 .553 .554 .555 .556 .557 .558 .559 .560 .561 .562 .563 .564 .565 .566 .567 .568 .569 .570 .571 .572 .573 .574 .575 .576 .577 .578 .579 .580 .581 .582 .583 .584 .585 .586 .587 .588 .589 .590 .591 .592 .593 .594 .595 .596 .597 .598 .599 .600 .601 .602 .603 .604 .605 .606 .607 .608 .609 .610 .611 .612 .613 .614 .615 .616 .617 .618 .619 .620 .621 .622 .623 .624 .625 .626 .627 .628 .629 .630 .631 .632 .633 .634 .635 .636 .637 .638 .639 .640 .641 .642 .643 .644 .645 .646 .647 .648 .649 .650 .651 .652 .653 .654 .655 .656 .657 .658 .659 .660 .661 .662 .663 .664 .665 .666 .667 .668 .669 .670 .671 .672 .673 .674 .675 .676 .677 .678 .679 .680 .681 .682 .683 .684 .685 .686 .687 .688 .689 .690 .691 .692 .693 .694 .695 .696 .697 .698 .699 .700 .701 .702 .703 .704 .705 .706 .707 .708 .709 .710 .711 .712 .713 .714 .715 .716 .717 .718 .719 .720 .721 .722 .723 .724 .725 .726 .727 .728 .729 .730 .731 .732 .733 .734 .735 .736 .737 .738 .739 .740 .741 .742 .743 .744 .745 .746 .747 .748 .749 .750 .751 .752 .753 .754 .755 .756 .757 .758 .759 .760 .761 .762 .763 .764 .765 .766 .767 .768 .769 .770 .771 .772 .773 .774 .775 .776 .777 .778 .779 .780 .781 .782 .783 .784 .785 .786 .787 .788 .789 .790 .791 .792 .793 .794 .795 .796 .797 .798 .799 .800 .801 .802 .803 .804 .805 .806 .807 .808 .809 .810 .811 .812 .813 .814 .815 .816 .817 .818 .819 .820 .821 .822 .823 .824 .825 .826 .827 .828 .829 .830 .831 .832 .833 .834 .835 .836 .837 .838 .839 .840 .841 .842 .843 .844 .845 .846 .847 .848 .849 .850 .851 .852 .853 .854 .855 .856 .857 .858 .859 .860 .861 .862 .863 .864 .865 .866 .867 .868 .869 .870 .871 .872 .873 .874 .875 .876 .877 .878 .879 .880 .881 .882 .883 .884 .885 .886 .887 .888 .889 .890 .891 .892 .893 .894 .895 .896 .897 .898 .899 .900 .901 .902 .903 .904 .905 .906 .907 .908 .909 .910 .911 .912 .913 .914 .915 .916 .917 .918 .919 .920 .921 .922 .923 .924 .925 .926 .927 .928 .929 .930 .931 .932 .933 .934 .935 .936 .937 .938 .939 .940 .941 .942 .943 .944 .945 .946 .947 .948 .949 .950 .951 .952 .953 .954 .955 .956 .957 .958 .959 .960 .961 .962 .963 .964 .965 .966 .967 .968 .969 .970 .971 .972 .973 .974 .975 .976 .977 .978 .979 .980 .981 .982 .983 .984 .985 .986 .987 .988 .989 .990 .991 .992 .993 .994 .995 .996 .997 .998 .999 .1000 .1001 .1002 .1003 .1004 .1005 .1006 .1007 .1008 .1009 .1010 .1011 .1012 .1013 .1014 .1015 .1016 .1017 .1018 .1019 .1020 .1021 .1022 .1023 .1024 .1025 .1026 .1027 .1028 .1029 .1030 .1031 .1032 .1033 .1034 .1035 .1036 .1037 .1038 .1039 .1040 .1041 .1042 .1043 .1044 .1045 .1046 .1047 .1048 .1049 .1050 .1051 .1052 .1053 .1054 .1055 .1056 .1057 .1058 .1059 .1060 .1061 .1062 .1063 .1064 .1065 .1066 .1067 .1068 .1069 .1070 .1071 .1072 .1073 .1074 .1075 .1076 .1077 .1078 .1079 .1080 .1081 .1082 .1083 .1084 .1085 .1086 .1087 .1088 .1089 .1090 .1091 .1092 .1093 .1094 .1095 .1096 .1097 .1098 .1099 .1100 .1101 .1102 .1103 .1104 .1105 .1106 .1107 .1108 .1109 .1110 .1111 .1112 .1113 .1114 .1115 .1116 .1117 .1118 .1119 .1120 .1121 .1122 .1123 .1124 .1125 .1126 .1127 .1128 .1129 .1130 .1131 .1132 .1133 .1134 .1135 .1136 .1137 .1138 .1139 .1140 .1141 .1142 .1143 .1144 .1145 .1146 .1147 .1148 .1149 .1150 .1151 .1152 .1153 .1154 .1155 .1156 .1157 .1158 .1159 .1160 .1161 .1162 .1163 .1164 .1165 .1166 .1167 .1168 .1169 .1170 .1171 .1172 .1173 .1174 .1175 .1176 .1177 .1178 .1179 .1180 .1181 .1182 .1183 .1184 .1185 .1186 .1187 .1188 .1189 .1190 .1191 .1192 .1193 .1194 .1195 .1196 .1197 .1198 .1199 .1200 .1201 .1202 .1203 .1204 .1205 .1206 .1207 .1208 .Crawling complete!\n"
          ],
          "name": "stdout"
        }
      ]
    },
    {
      "cell_type": "code",
      "metadata": {
        "id": "lP0Hla5ZIHkV"
      },
      "source": [
        "# 웹툰 url\r\n",
        "\r\n",
        "w_url = []\r\n",
        "for i, data in df.iterrows():\r\n",
        "    w_url.append('http://webtoon.daum.net/webtoon/view/'+data['nickname'])\r\n",
        "\r\n",
        "df['page url'] = pd.Series(w_url)\r\n",
        "# df"
      ],
      "execution_count": 14,
      "outputs": []
    },
    {
      "cell_type": "code",
      "metadata": {
        "id": "DOKc3c895CDN"
      },
      "source": [
        "df.to_csv(\"D_Webtoon_1_toonsinfo.csv\",index=False)"
      ],
      "execution_count": 15,
      "outputs": []
    }
  ]
}