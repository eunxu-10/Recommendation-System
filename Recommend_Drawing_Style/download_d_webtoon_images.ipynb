{
 "cells": [
  {
   "cell_type": "code",
   "execution_count": 13,
   "id": "39d91031",
   "metadata": {},
   "outputs": [],
   "source": [
    "from IPython.display import clear_output # clear_output() 으로 아웃풋 제거 가능\n",
    "from IPython.core.interactiveshell import InteractiveShell\n",
    "InteractiveShell.ast_node_interactivity = \"all\"\n",
    "\n",
    "import numpy as np\n",
    "import pandas as pd\n",
    "import requests\n",
    "from PIL import Image as pil\n",
    "\n",
    "%matplotlib inline\n",
    "%config InlineBackend.figure_formats = {'png','retina'}\n",
    "\n",
    "pd.set_option('display.max_columns', 200)\n",
    "pd.set_option('display.width', 1000)"
   ]
  },
  {
   "cell_type": "code",
   "execution_count": 15,
   "id": "d049758b",
   "metadata": {},
   "outputs": [],
   "source": [
    "df_info = pd.read_csv(\"D_Webtoon_1_toonsinfo.csv\")"
   ]
  },
  {
   "cell_type": "code",
   "execution_count": 16,
   "id": "2e0ac667",
   "metadata": {},
   "outputs": [],
   "source": [
    "df_chapter = pd.read_csv(\"D_Webtoon_2_thumbnail.csv\")"
   ]
  },
  {
   "cell_type": "markdown",
   "id": "e3c5da2b",
   "metadata": {},
   "source": [
    "# 웹툰별 대표이미지 처리 및 저장"
   ]
  },
  {
   "cell_type": "code",
   "execution_count": 19,
   "id": "83c35270",
   "metadata": {},
   "outputs": [],
   "source": [
    "#웹툰별 대표이미지 처리 및 저장\n",
    "for i in range(1207):\n",
    "    clear_output()\n",
    "    print('get',i,'th img...',end=\"\")\n",
    "    response = requests.get(df_info[\"img_url\"][i],stream=True).raw\n",
    "    pil_im = pil.open(response)\n",
    "    pil_im\n",
    "    temp_pil = pil_im\n",
    "    if temp_pil.size[0] < 212 and temp_pil.size[1] < 190:\n",
    "        temp_pil.resize((200,150), pil.ANTIALIAS).save('thumb_img_wbt/'+str(df_info[\"id\"][i])+'.png')\n",
    "    else:    \n",
    "        temp_pil.thumbnail((200,200))\n",
    "        area=(0,10,200,160)#left, top, right, bottom\n",
    "        temp_pil.crop(area).save('thumb_img_wbt/'+str(df_info[\"id\"][i])+'.png')\n",
    "print(\"Done!\")"
   ]
  },
  {
   "cell_type": "markdown",
   "id": "db2e6ca4",
   "metadata": {},
   "source": [
    "# 웹툰 회차별 썸네일 이미지 처리 및 저장"
   ]
  },
  {
   "cell_type": "code",
   "execution_count": 20,
   "id": "02d52e39",
   "metadata": {},
   "outputs": [],
   "source": [
    "#웹툰별 회차 썸네일이미지 처리 및 저장\n",
    "for i in range(293, 934):#934~1207\n",
    "    clear_output()\n",
    "    print('get',i,'th img...')\n",
    "    response = requests.get(df_info[\"img_url\"][i],stream=True).raw\n",
    "    pil_im = pil.open(response)\n",
    "    print('웹툰 id : ',df_info[\"id\"][i],', 대표이미지')\n",
    "    pil_im\n",
    "    os.mkdir('thumb_img_chap_class/'+str(df_info[\"id\"][i])+'/')\n",
    "    for j,row in df_chapter[df_chapter['wbt_id']==df_info[\"id\"][i]].iterrows():\n",
    "        print(\"이미지 정제중 : \",j,end=\"\\r\")\n",
    "        img = row[\"img_url\"]\n",
    "        if img[7]=='u':\n",
    "            img = img.replace(\"u1\", \"t1\")\n",
    "        response = requests.get(img,stream=True).raw\n",
    "        print(img)\n",
    "        pil_im = pil.open(response)\n",
    "\n",
    "        temp_pil = pil_im\n",
    "        if temp_pil.size[0] < 250:\n",
    "            temp_pil.resize((200,150), pil.ANTIALIAS).save('thumb_img_chap_class/'+str(df_info[\"id\"][i])+'/'+str(df_info[\"id\"][i])+'_'+str(row['id'])+'.png')\n",
    "        else:    \n",
    "            temp_pil.thumbnail((250,150))\n",
    "            area=(25,0,225,150)#left, top, right, bottom\n",
    "            temp_pil.crop(area).save('thumb_img_chap_class/'+str(df_info[\"id\"][i])+'/'+str(df_info[\"id\"][i])+'_'+str(row['id'])+'.png')\n",
    "print(\"Done!\")"
   ]
  }
 ],
 "metadata": {
  "kernelspec": {
   "display_name": "Python 3",
   "language": "python",
   "name": "python3"
  },
  "language_info": {
   "codemirror_mode": {
    "name": "ipython",
    "version": 3
   },
   "file_extension": ".py",
   "mimetype": "text/x-python",
   "name": "python",
   "nbconvert_exporter": "python",
   "pygments_lexer": "ipython3",
   "version": "3.8.8"
  }
 },
 "nbformat": 4,
 "nbformat_minor": 5
}
