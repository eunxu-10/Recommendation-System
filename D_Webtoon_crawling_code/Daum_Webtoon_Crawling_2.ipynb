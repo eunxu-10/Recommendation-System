{
  "nbformat": 4,
  "nbformat_minor": 0,
  "metadata": {
    "colab": {
      "name": "Daum_Webtoon_Crawling_2",
      "provenance": [],
      "collapsed_sections": []
    },
    "kernelspec": {
      "name": "python3",
      "display_name": "Python 3"
    }
  },
  "cells": [
    {
      "cell_type": "markdown",
      "metadata": {
        "id": "azZS7WsE3Ngg"
      },
      "source": [
        "### 다음 데이터 크롤링 (2021-03-12)\r\n",
        "### 2. 웹툰별 회차별 썸네일 크롤링"
      ]
    },
    {
      "cell_type": "code",
      "metadata": {
        "id": "8YkScOfUWFVc"
      },
      "source": [
        "from IPython.display import clear_output # clear_output() 으로 아웃풋 제거 가능\r\n",
        "# 값 연속적으로 모두 출력\r\n",
        "from IPython.core.interactiveshell import InteractiveShell\r\n",
        "InteractiveShell.ast_node_interactivity = \"all\" \r\n",
        "\r\n",
        "import pandas as pd\r\n",
        "import requests\r\n",
        "\r\n",
        "pd.set_option('display.max_columns', 200)\r\n",
        "pd.set_option('display.width', 1000)"
      ],
      "execution_count": 7,
      "outputs": []
    },
    {
      "cell_type": "code",
      "metadata": {
        "colab": {
          "base_uri": "https://localhost:8080/"
        },
        "id": "VxJ5b1YZIfsE",
        "outputId": "75bcaf3d-e721-4b00-8f34-beb46f0e0807"
      },
      "source": [
        "from google.colab import drive\r\n",
        "drive.mount('/content/gdrive')"
      ],
      "execution_count": 8,
      "outputs": [
        {
          "output_type": "stream",
          "text": [
            "Mounted at /content/gdrive\n"
          ],
          "name": "stdout"
        }
      ]
    },
    {
      "cell_type": "code",
      "metadata": {
        "id": "Ly_kuN9CIQR6"
      },
      "source": [
        "data = pd.read_csv(\"/content/gdrive/My Drive/Colab Notebooks/daum_webtoon/D_Webtoon_1_toonsinfo.csv\")"
      ],
      "execution_count": 9,
      "outputs": []
    },
    {
      "cell_type": "code",
      "metadata": {
        "id": "6ncIypzJJSjH"
      },
      "source": [
        "# data"
      ],
      "execution_count": null,
      "outputs": []
    },
    {
      "cell_type": "code",
      "metadata": {
        "id": "jk8HVJxG5Nwe",
        "colab": {
          "base_uri": "https://localhost:8080/"
        },
        "outputId": "71c65719-af1e-445f-c28f-e7169077c13c"
      },
      "source": [
        "# # 우두커니 웹툰의 경우\r\n",
        "# url3 = 'http://webtoon.daum.net/data/pc/webtoon/view/'+ df.loc[0]['nickname']\r\n",
        "# temp_df= get_data(url3)\r\n",
        "\r\n",
        "# temp_df['data']['webtoon']['webtoonEpisodes'][0].keys()"
      ],
      "execution_count": null,
      "outputs": [
        {
          "output_type": "execute_result",
          "data": {
            "text/plain": [
              "dict_keys(['id', 'episode', 'title', 'shortTitle', 'thumbnailImage', 'episodeImage', 'encryptUseYn', 'serviceStatus', 'articleId', 'commentUseYn', 'dateCreated', 'webtoon', 'serviceType', 'multiType', 'multiBgm', 'multiBackgroundImage', 'price', 'padtoonImage', 'voteTarget', 'shareVoteTarget', 'isTopRecommend', 'simpleUrl', 'specialSearchString', 'specialSearchUrl', 'previewEndDate', 'isPaid', 'payWebtoonEpisode', 'product', 'ticketAvailable', 'ageGrade'])"
            ]
          },
          "metadata": {
            "tags": []
          },
          "execution_count": 16
        }
      ]
    },
    {
      "cell_type": "code",
      "metadata": {
        "id": "dk7S-jwfiBIT"
      },
      "source": [
        "# wbt_chapter = pd.DataFrame(columns=['id', 'episode', 'title', 'shortTitle', 'thumbnailImage', 'episodeImage', 'encryptUseYn', 'serviceStatus', 'articleId', 'commentUseYn', 'dateCreated', 'webtoon', 'serviceType', 'multiType', 'multiBgm', 'multiBackgroundImage', 'price', 'padtoonImage', 'voteTarget', 'shareVoteTarget', 'isTopRecommend', 'simpleUrl', 'specialSearchString', 'specialSearchUrl', 'previewEndDate', 'isPaid', 'payWebtoonEpisode', 'product', 'ticketAvailable'])\r\n",
        "# df_ch = temp_df['data']['webtoon']\r\n",
        "# for data in df_ch['webtoonEpisodes']:\r\n",
        "#     wbt_chapter.loc[len(wbt_chapter)] = data\r\n",
        "# # wbt_chapter.tail()"
      ],
      "execution_count": null,
      "outputs": []
    },
    {
      "cell_type": "code",
      "metadata": {
        "id": "iB8aZtQiiiDO"
      },
      "source": [
        "# wbt2_df=wbt_chapter[['id', 'episode', 'title', 'thumbnailImage']]"
      ],
      "execution_count": null,
      "outputs": []
    },
    {
      "cell_type": "code",
      "metadata": {
        "id": "NzB4xJCH5Yov"
      },
      "source": [
        "# wbt2_df2 = wbt2_df[['id', 'episode', 'title']].copy()\r\n",
        "\r\n",
        "# img_url = []\r\n",
        "# for i, data in wbt2_df.iterrows():\r\n",
        "#     try:\r\n",
        "#         img_url.append(data['thumbnailImage']['url'])\r\n",
        "#     except:\r\n",
        "#         img_url.append(None)\r\n",
        "\r\n",
        "# wbt2_df2['img_url'] = pd.Series(img_url)\r\n",
        "# wbt2_df2"
      ],
      "execution_count": null,
      "outputs": []
    },
    {
      "cell_type": "markdown",
      "metadata": {
        "id": "ec_tuOQN8H3r"
      },
      "source": [
        "## 본격 크롤링"
      ]
    },
    {
      "cell_type": "code",
      "metadata": {
        "id": "i7a8C8xBPoah"
      },
      "source": [
        "def getChapterImg(ls_url_nicks):\r\n",
        "    print('Getting webtoon`s chapter list from Daum...')\r\n",
        "\r\n",
        "    headers = {'Content-Type': 'text/html'}\r\n",
        "    cookies = {'session_id' : 'RECENT_USE=on; RECENT_SEARCH=%EC%8C%8D%EA%B0%91%2C; RECENT_VIEW=105701|54701|104995|50615|90827; SLEVEL=0; ALARM_COUPON=20210315192117; __T_=1; VOTE=MTAuNTE%3D; MY=MTAuNTE%3D; ORDER=MTAuNTE%3D; HM_CU=5DRHdXDNCXg; PROF=0603012032024076024120UiQPJk7X-6w0mlxoempuua-WtEc2RT95vdkDQkloQ8t.KuZP3z7wEl2bxriNh5SdkQ00LYYSA9A1_cGNLCyhCzrwOjTi9JCLCPIz3mlNTt7zkh799Fe9fQCTuFahgZwN7arRuq1D_iaAuoc0fIauQlo8OTLcCscrxJX8Uw00rfhTzfRpBVHPn23B_vTzGDH5t.ow35ZYntxYtQOcleZXKh2-G69UsZ5Joi8PC77SepzPx_EoF25QUPUbuh6eoCQZjRxg2d7oLS_CliiS.l83vhtpaXRyxA00; AGEN=4ywGKJy_PaRaCTDlmS0HW-WYwYc1j29NCjAYA-_LArc; TIARA=-73vHQQZIRxfdXAvj44dQwwavwjLg6nvVGXEtrCIlZXu863u25mi8mC7Y9bO.h-EsfrP1HeF.yELGzHaPO31P81NuBns.l5W; TS=1615950634; HTS=bVfL1dMfBsVxzsj8gVzI5g00; LSID=504abe8c-6e68-42db-bbd8-2af123c1d5c21615950634905; _fbp=fb.1.1615950639787.830177619; _T_ANO=OKZ+Q7Y4USXeyLVg1FxHtaULMyth/41zPwjH70cY9uaj3fZxApYc3Gyg9+qIuDbYCMYz4PErFebItCEXrE4FgQxYjtA9vUB2VsgDa0sWRapm8NuIqTsv7//6qVc8QDmjPW50kHWVY7ace5tdJ4Cli3uJ09HbrYl/Av/2SD/oo+eXt4qt+GHkqWS1/Mkch0h5ZNzmgcXcfsekrvv6S76JrB/DznWm5G+2pA+QUGK/LUgeLB0qQ8shpQI0MBB9O8cFE6Kp9X1kLiaSbFfgJkYuUgCEYVEO1+Xvcd29B7wC0wzohhBaiCZQCTcbh4DgEb7fd9Uxb3qr7RicroD5HEdUCw=='}\r\n",
        "\r\n",
        "    df = pd.DataFrame(columns=['wbt_id','wbt_nkname', 'wbt_name','id', 'episode', 'title', 'img_url'])\r\n",
        "    \r\n",
        "    cnt = 0\r\n",
        "    error = 0\r\n",
        "    error_ls = []\r\n",
        "    \r\n",
        "    for nickname in ls_url_nicks:\r\n",
        "        try :\r\n",
        "            url3 = 'http://webtoon.daum.net/data/pc/webtoon/view/'+ nickname\r\n",
        "            response = requests.get(url3, headers=headers, cookies=cookies) # 세션을 유지하면서 url가져오기\r\n",
        "        except:\r\n",
        "            print(\"server rejected please wait 45sec...\")\r\n",
        "            time.sleep(45)\r\n",
        "            print(\"now reconnect again...\", end=\"\")\r\n",
        "            url3 = 'http://webtoon.daum.net/data/pc/webtoon/view/'+ nickname\r\n",
        "            response = requests.get(url3, headers=headers, cookies=cookies) # 세션을 유지하면서 url가져오기\r\n",
        "            print(\"success!!\")\r\n",
        "        try:        \r\n",
        "            temp_df = response.json() # json -> dict 형식으로 알아서 바꿔줌\r\n",
        "\r\n",
        "            wbt_chapter = pd.DataFrame(columns=['id', 'episode', 'title', 'shortTitle', 'thumbnailImage', 'episodeImage', 'encryptUseYn', 'serviceStatus', 'articleId', 'commentUseYn', 'dateCreated', 'webtoon', 'serviceType', 'multiType', 'multiBgm', 'multiBackgroundImage', 'price', 'padtoonImage', 'voteTarget', 'shareVoteTarget', 'isTopRecommend', 'simpleUrl', 'specialSearchString', 'specialSearchUrl', 'previewEndDate', 'isPaid', 'payWebtoonEpisode', 'product', 'ticketAvailable'])\r\n",
        "\r\n",
        "            df_ch = temp_df['data']['webtoon']\r\n",
        "            \r\n",
        "            \r\n",
        "            for data in df_ch['webtoonEpisodes']:\r\n",
        "                wbt_chapter.loc[len(wbt_chapter)] = data\r\n",
        "            wbt_chapter['wbt_id']=df_ch['id']\r\n",
        "            wbt_chapter['wbt_nkname']=df_ch['nickname']\r\n",
        "            wbt_chapter['wbt_name']=df_ch['title']\r\n",
        "\r\n",
        "            wbt2_df=wbt_chapter[['wbt_id','wbt_nkname', 'wbt_name', 'id', 'episode', 'title', 'thumbnailImage']]\r\n",
        "            wbt2_df2 = wbt2_df[['wbt_id','wbt_nkname', 'wbt_name', 'id', 'episode', 'title']].copy()\r\n",
        "            \r\n",
        "            img_url = []\r\n",
        "            for i, data in wbt2_df.iterrows():\r\n",
        "                try:\r\n",
        "                    img_url.append(data['thumbnailImage']['url'])\r\n",
        "                except:\r\n",
        "                    img_url.append(None)\r\n",
        "\r\n",
        "            wbt2_df2['img_url'] = pd.Series(img_url)\r\n",
        "\r\n",
        "            df = df.append(wbt2_df2)\r\n",
        "\r\n",
        "            if cnt % 20 == 0:\r\n",
        "                print(cnt,\"(\",nickname,\")..\",end=\"\")\r\n",
        "            cnt += 1    \r\n",
        "            \r\n",
        "        except: # 에러발생시킨 웹툰 캐치\r\n",
        "            \r\n",
        "            error += 1\r\n",
        "            print(\"error occurd!!(\",error,'-',nickname,\")..\", end=\"\")\r\n",
        "            error_ls.append(nickname)\r\n",
        "        \r\n",
        "        \r\n",
        "    return df.reset_index(drop=True), error_ls"
      ],
      "execution_count": 19,
      "outputs": []
    },
    {
      "cell_type": "code",
      "metadata": {
        "id": "Bn0n25P36ilD",
        "colab": {
          "base_uri": "https://localhost:8080/"
        },
        "outputId": "e0436088-f0ab-4c8d-822c-561c191fa91f"
      },
      "source": [
        "df2,error_ls = getChapterImg(list(data['nickname']))\r\n",
        "error_ls"
      ],
      "execution_count": 20,
      "outputs": [
        {
          "output_type": "stream",
          "text": [
            "Getting webtoon`s chapter list from Daum...\n",
            "0 ( vacantly )..20 ( doggaebi )..40 ( yulmuartari )..60 ( disposableactor )..80 ( cubee )..100 ( BreakerDrawing )..120 ( godstory )..140 ( 4thgrade )..160 ( hellTemple )..180 ( notstopping )..200 ( homemaker )..220 ( kimong_fairytale )..240 ( 11yearafterour )..260 ( blackbehemoth )..280 ( hwaja )..300 ( godstime )..320 ( amoment )..340 ( rainbowfish )..360 ( eroro )..380 ( dings )..400 ( serotonin )..420 ( illang )..440 ( runningwoman )..460 ( RTX )..480 ( simbongsa )..500 ( sangod )..520 ( foolforyou )..540 ( mhz )..560 ( myhomebird )..580 ( maidnvampire )..600 ( intersection )..620 ( UNDERCITY2 )..640 ( groomingsunday )..660 ( afternoonheros )..680 ( moase )..700 ( allinone )..720 ( vampiregirl )..740 ( goodrobot )..760 ( misosikga )..780 ( daddy2 )..800 ( happyparadise )..820 ( homelessblues )..error occurd!!( 1 - killmywife )..error occurd!!( 2 - todayandtoday )..840 ( gone )..860 ( wave )..error occurd!!( 3 - daddygoround )..880 ( jealousy )..900 ( fightskill2 )..920 ( trpg )..940 ( paradise )..960 ( thehunter )..980 ( deadorlife )..1000 ( brothersister )..1020 ( lovestreaming )..1040 ( midn )..1060 ( kubrick )..1080 ( baechugirl )..1100 ( vampirechef )..1120 ( cctv )..1140 ( dogandrabbit )..1160 ( TrashStudent )..1180 ( fss )..1200 ( ramyun ).."
          ],
          "name": "stdout"
        },
        {
          "output_type": "execute_result",
          "data": {
            "text/plain": [
              "['killmywife', 'todayandtoday', 'daddygoround']"
            ]
          },
          "metadata": {
            "tags": []
          },
          "execution_count": 20
        }
      ]
    },
    {
      "cell_type": "code",
      "metadata": {
        "colab": {
          "base_uri": "https://localhost:8080/",
          "height": 399
        },
        "id": "ayNvm3V-aMCk",
        "outputId": "4ce44a4d-fefa-4e1a-9fd7-4bd2626eb465"
      },
      "source": [
        "df2"
      ],
      "execution_count": 21,
      "outputs": [
        {
          "output_type": "execute_result",
          "data": {
            "text/html": [
              "<div>\n",
              "<style scoped>\n",
              "    .dataframe tbody tr th:only-of-type {\n",
              "        vertical-align: middle;\n",
              "    }\n",
              "\n",
              "    .dataframe tbody tr th {\n",
              "        vertical-align: top;\n",
              "    }\n",
              "\n",
              "    .dataframe thead th {\n",
              "        text-align: right;\n",
              "    }\n",
              "</style>\n",
              "<table border=\"1\" class=\"dataframe\">\n",
              "  <thead>\n",
              "    <tr style=\"text-align: right;\">\n",
              "      <th></th>\n",
              "      <th>wbt_id</th>\n",
              "      <th>wbt_nkname</th>\n",
              "      <th>wbt_name</th>\n",
              "      <th>id</th>\n",
              "      <th>episode</th>\n",
              "      <th>title</th>\n",
              "      <th>img_url</th>\n",
              "    </tr>\n",
              "  </thead>\n",
              "  <tbody>\n",
              "    <tr>\n",
              "      <th>0</th>\n",
              "      <td>1444</td>\n",
              "      <td>vacantly</td>\n",
              "      <td>우두커니</td>\n",
              "      <td>50196</td>\n",
              "      <td>1</td>\n",
              "      <td>프롤로그</td>\n",
              "      <td>http://t1.daumcdn.net/webtoon/op/d0634b71310c2...</td>\n",
              "    </tr>\n",
              "    <tr>\n",
              "      <th>1</th>\n",
              "      <td>1444</td>\n",
              "      <td>vacantly</td>\n",
              "      <td>우두커니</td>\n",
              "      <td>50197</td>\n",
              "      <td>2</td>\n",
              "      <td>1화 이삿날</td>\n",
              "      <td>http://t1.daumcdn.net/webtoon/op/2b9b44f47e8df...</td>\n",
              "    </tr>\n",
              "    <tr>\n",
              "      <th>2</th>\n",
              "      <td>1444</td>\n",
              "      <td>vacantly</td>\n",
              "      <td>우두커니</td>\n",
              "      <td>50198</td>\n",
              "      <td>3</td>\n",
              "      <td>2화 꿈이겠지</td>\n",
              "      <td>http://t1.daumcdn.net/webtoon/op/87beb2a0deb96...</td>\n",
              "    </tr>\n",
              "    <tr>\n",
              "      <th>3</th>\n",
              "      <td>1444</td>\n",
              "      <td>vacantly</td>\n",
              "      <td>우두커니</td>\n",
              "      <td>50199</td>\n",
              "      <td>4</td>\n",
              "      <td>3화 폭우</td>\n",
              "      <td>http://t1.daumcdn.net/webtoon/op/fad8f36885f49...</td>\n",
              "    </tr>\n",
              "    <tr>\n",
              "      <th>4</th>\n",
              "      <td>1444</td>\n",
              "      <td>vacantly</td>\n",
              "      <td>우두커니</td>\n",
              "      <td>50322</td>\n",
              "      <td>5</td>\n",
              "      <td>4화 아버지의 그림</td>\n",
              "      <td>http://t1.daumcdn.net/webtoon/op/88c19843941d6...</td>\n",
              "    </tr>\n",
              "    <tr>\n",
              "      <th>...</th>\n",
              "      <td>...</td>\n",
              "      <td>...</td>\n",
              "      <td>...</td>\n",
              "      <td>...</td>\n",
              "      <td>...</td>\n",
              "      <td>...</td>\n",
              "      <td>...</td>\n",
              "    </tr>\n",
              "    <tr>\n",
              "      <th>79483</th>\n",
              "      <td>1222</td>\n",
              "      <td>gochoo</td>\n",
              "      <td>여기 고수 추가요!</td>\n",
              "      <td>34174</td>\n",
              "      <td>22</td>\n",
              "      <td>20화</td>\n",
              "      <td>http://i1.cartoon.daumcdn.net/svc/image/U03/ca...</td>\n",
              "    </tr>\n",
              "    <tr>\n",
              "      <th>79484</th>\n",
              "      <td>1222</td>\n",
              "      <td>gochoo</td>\n",
              "      <td>여기 고수 추가요!</td>\n",
              "      <td>34285</td>\n",
              "      <td>23</td>\n",
              "      <td>21화</td>\n",
              "      <td>http://i1.cartoon.daumcdn.net/svc/image/U03/ca...</td>\n",
              "    </tr>\n",
              "    <tr>\n",
              "      <th>79485</th>\n",
              "      <td>1222</td>\n",
              "      <td>gochoo</td>\n",
              "      <td>여기 고수 추가요!</td>\n",
              "      <td>34398</td>\n",
              "      <td>24</td>\n",
              "      <td>22화</td>\n",
              "      <td>http://i1.cartoon.daumcdn.net/svc/image/U03/ca...</td>\n",
              "    </tr>\n",
              "    <tr>\n",
              "      <th>79486</th>\n",
              "      <td>1222</td>\n",
              "      <td>gochoo</td>\n",
              "      <td>여기 고수 추가요!</td>\n",
              "      <td>34494</td>\n",
              "      <td>25</td>\n",
              "      <td>에필로그</td>\n",
              "      <td>http://i1.cartoon.daumcdn.net/svc/image/U03/ca...</td>\n",
              "    </tr>\n",
              "    <tr>\n",
              "      <th>79487</th>\n",
              "      <td>1222</td>\n",
              "      <td>gochoo</td>\n",
              "      <td>여기 고수 추가요!</td>\n",
              "      <td>34611</td>\n",
              "      <td>26</td>\n",
              "      <td>후기</td>\n",
              "      <td>http://i1.cartoon.daumcdn.net/svc/image/U03/ca...</td>\n",
              "    </tr>\n",
              "  </tbody>\n",
              "</table>\n",
              "<p>79488 rows × 7 columns</p>\n",
              "</div>"
            ],
            "text/plain": [
              "      wbt_id wbt_nkname    wbt_name     id episode       title                                            img_url\n",
              "0       1444   vacantly        우두커니  50196       1        프롤로그  http://t1.daumcdn.net/webtoon/op/d0634b71310c2...\n",
              "1       1444   vacantly        우두커니  50197       2      1화 이삿날  http://t1.daumcdn.net/webtoon/op/2b9b44f47e8df...\n",
              "2       1444   vacantly        우두커니  50198       3     2화 꿈이겠지  http://t1.daumcdn.net/webtoon/op/87beb2a0deb96...\n",
              "3       1444   vacantly        우두커니  50199       4       3화 폭우  http://t1.daumcdn.net/webtoon/op/fad8f36885f49...\n",
              "4       1444   vacantly        우두커니  50322       5  4화 아버지의 그림  http://t1.daumcdn.net/webtoon/op/88c19843941d6...\n",
              "...      ...        ...         ...    ...     ...         ...                                                ...\n",
              "79483   1222     gochoo  여기 고수 추가요!  34174      22         20화  http://i1.cartoon.daumcdn.net/svc/image/U03/ca...\n",
              "79484   1222     gochoo  여기 고수 추가요!  34285      23         21화  http://i1.cartoon.daumcdn.net/svc/image/U03/ca...\n",
              "79485   1222     gochoo  여기 고수 추가요!  34398      24         22화  http://i1.cartoon.daumcdn.net/svc/image/U03/ca...\n",
              "79486   1222     gochoo  여기 고수 추가요!  34494      25        에필로그  http://i1.cartoon.daumcdn.net/svc/image/U03/ca...\n",
              "79487   1222     gochoo  여기 고수 추가요!  34611      26          후기  http://i1.cartoon.daumcdn.net/svc/image/U03/ca...\n",
              "\n",
              "[79488 rows x 7 columns]"
            ]
          },
          "metadata": {
            "tags": []
          },
          "execution_count": 21
        }
      ]
    },
    {
      "cell_type": "code",
      "metadata": {
        "id": "sMzl1yPJCuZ4"
      },
      "source": [
        "df2.to_csv(\"D_Webtoon_2_thumbnail.csv\",index=False)"
      ],
      "execution_count": 22,
      "outputs": []
    }
  ]
}