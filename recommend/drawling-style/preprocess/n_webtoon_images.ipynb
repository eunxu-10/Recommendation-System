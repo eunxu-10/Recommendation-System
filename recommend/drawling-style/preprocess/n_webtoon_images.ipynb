{
 "cells": [
  {
   "cell_type": "code",
   "execution_count": 8,
   "metadata": {
    "colab": {
     "base_uri": "https://localhost:8080/"
    },
    "executionInfo": {
     "elapsed": 1720,
     "status": "ok",
     "timestamp": 1622087312503,
     "user": {
      "displayName": "오하은",
      "photoUrl": "",
      "userId": "02539459361401791038"
     },
     "user_tz": -540
    },
    "id": "aKCClHXZuLJe",
    "outputId": "e0d0c44e-8974-48f3-8bbd-d05c581e20c2"
   },
   "outputs": [],
   "source": [
    "from IPython.display import clear_output # clear_output() 으로 아웃풋 제거 가능\n",
    "from IPython.core.interactiveshell import InteractiveShell\n",
    "InteractiveShell.ast_node_interactivity = \"all\"\n",
    "\n",
    "import numpy as np\n",
    "import pandas as pd\n",
    "import requests\n",
    "import os\n",
    "import re\n",
    "from PIL import Image as pil\n",
    "\n",
    "%matplotlib inline\n",
    "%config InlineBackend.figure_formats = {'png','retina'}\n",
    "\n",
    "pd.set_option('display.max_columns', 200)\n",
    "pd.set_option('display.width', 1000)"
   ]
  },
  {
   "cell_type": "code",
   "execution_count": 2,
   "metadata": {
    "executionInfo": {
     "elapsed": 655,
     "status": "ok",
     "timestamp": 1622087315605,
     "user": {
      "displayName": "오하은",
      "photoUrl": "",
      "userId": "02539459361401791038"
     },
     "user_tz": -540
    },
    "id": "eOyKLbAEvj8l"
   },
   "outputs": [],
   "source": [
    "df_info = pd.read_csv(\"N_Webtoon_1_toonsinfo.csv\")"
   ]
  },
  {
   "cell_type": "code",
   "execution_count": 3,
   "metadata": {},
   "outputs": [],
   "source": [
    "#len(df_info) # 1496"
   ]
  },
  {
   "cell_type": "code",
   "execution_count": 4,
   "metadata": {
    "executionInfo": {
     "elapsed": 1729,
     "status": "ok",
     "timestamp": 1622087319738,
     "user": {
      "displayName": "오하은",
      "photoUrl": "",
      "userId": "02539459361401791038"
     },
     "user_tz": -540
    },
    "id": "tvJgvBJ0u1rM"
   },
   "outputs": [],
   "source": [
    "df_chapter = pd.read_csv(\"N_Webtoon_2_thumbnail.csv\")"
   ]
  },
  {
   "cell_type": "markdown",
   "metadata": {
    "id": "fh7OoLQIz_t3"
   },
   "source": [
    "# 웹툰별 대표이미지 처리 및 저장"
   ]
  },
  {
   "cell_type": "code",
   "execution_count": 6,
   "metadata": {
    "colab": {
     "base_uri": "https://localhost:8080/",
     "height": 256
    },
    "executionInfo": {
     "elapsed": 760058,
     "status": "ok",
     "timestamp": 1621834259467,
     "user": {
      "displayName": "­오하은 | 서울 컴퓨터소프트웨어학부",
      "photoUrl": "",
      "userId": "08099458635969179690"
     },
     "user_tz": -540
    },
    "id": "01GNqJJgwXfa",
    "outputId": "051897f4-e765-4b59-cd3e-33f103e8ce33",
    "scrolled": true
   },
   "outputs": [],
   "source": [
    "#웹툰별 대표이미지 처리 및 저장\n",
    "for i in range(1496):\n",
    "    clear_output()\n",
    "    print('get',i,'th img...',end=\"\")\n",
    "    response = requests.get(df_info[\"img_url\"][i],stream=True).raw\n",
    "    pil_im = pil.open(response)\n",
    "    pil_im\n",
    "    temp_pil = pil_im\n",
    "    if temp_pil.size[0] < 212 and temp_pil.size[1] < 190:\n",
    "        temp_pil.resize((200,150), pil.ANTIALIAS).save('thumb_img_wbt/'+str(df_info[\"id\"][i])+'.png') # ANTIALIAS: 이미지 resize시 깨지지 않게 저장\n",
    "    else:    \n",
    "        temp_pil.thumbnail((200,200)) # thumbnail: 세로와 가로의 사이즈를 동일한 비율로 수정\n",
    "        area=(0,10,200,160) # left, top, right, bottom\n",
    "        temp_pil.crop(area).save('thumb_img_wbt/'+str(df_info[\"id\"][i])+'.png')\n",
    "print(\"Done!\")"
   ]
  },
  {
   "cell_type": "markdown",
   "metadata": {
    "id": "voCwAN5Q0KH8"
   },
   "source": [
    "# 웹툰 회차별 썸네일이미지 처리 및 저장"
   ]
  },
  {
   "cell_type": "code",
   "execution_count": 11,
   "metadata": {
    "colab": {
     "base_uri": "https://localhost:8080/",
     "height": 637
    },
    "executionInfo": {
     "elapsed": 121291,
     "status": "error",
     "timestamp": 1622087451747,
     "user": {
      "displayName": "오하은",
      "photoUrl": "",
      "userId": "02539459361401791038"
     },
     "user_tz": -540
    },
    "id": "lbirti6GxMLq",
    "outputId": "6de53dde-a95e-4571-a523-3c9b9c826376",
    "scrolled": true
   },
   "outputs": [
    {
     "name": "stdout",
     "output_type": "stream",
     "text": [
      "get 1495 th img...\n",
      "웹툰 id :  67340 , 대표이미지\n"
     ]
    },
    {
     "data": {
      "image/png": "[encoded data removed]",
      "text/plain": [
       "<PIL.JpegImagePlugin.JpegImageFile image mode=RGB size=83x90 at 0x2510F22FFA0>"
      ]
     },
     "execution_count": 11,
     "metadata": {},
     "output_type": "execute_result"
    },
    {
     "name": "stdout",
     "output_type": "stream",
     "text": [
      "https://shared-comic.pstatic.net/thumb/webtoon/67340/33/inst_thumbnail_20090901193644.jpg\n",
      "https://shared-comic.pstatic.net/thumb/webtoon/67340/32/inst_thumbnail_20090828220351.jpg\n",
      "https://shared-comic.pstatic.net/thumb/webtoon/67340/31/inst_thumbnail_20090825115231.jpg\n",
      "https://shared-comic.pstatic.net/thumb/webtoon/67340/30/inst_thumbnail_20090821181256.jpg\n",
      "https://shared-comic.pstatic.net/thumb/webtoon/67340/29/inst_thumbnail_20090818174352.jpg\n",
      "https://shared-comic.pstatic.net/thumb/webtoon/67340/28/inst_thumbnail_20090814180329.jpg\n",
      "https://shared-comic.pstatic.net/thumb/webtoon/67340/27/inst_thumbnail_20090811182434.jpg\n",
      "https://shared-comic.pstatic.net/thumb/webtoon/67340/26/inst_thumbnail_20090807180845.jpg\n",
      "https://shared-comic.pstatic.net/thumb/webtoon/67340/25/inst_thumbnail_20090804174751.jpg\n",
      "https://shared-comic.pstatic.net/thumb/webtoon/67340/24/inst_thumbnail_20090731154406.jpg\n",
      "https://shared-comic.pstatic.net/thumb/webtoon/67340/23/inst_thumbnail_20090728174048.jpg\n",
      "https://shared-comic.pstatic.net/thumb/webtoon/67340/22/inst_thumbnail_20090724184956.jpg\n",
      "https://shared-comic.pstatic.net/thumb/webtoon/67340/21/inst_thumbnail_20090721174430.jpg\n",
      "https://shared-comic.pstatic.net/thumb/webtoon/67340/20/inst_thumbnail_20090717163314.jpg\n",
      "https://shared-comic.pstatic.net/thumb/webtoon/67340/19/inst_thumbnail_20090714175739.jpg\n",
      "https://shared-comic.pstatic.net/thumb/webtoon/67340/18/inst_thumbnail_20090710173723.jpg\n",
      "https://shared-comic.pstatic.net/thumb/webtoon/67340/17/inst_thumbnail_20090707173154.jpg\n",
      "https://shared-comic.pstatic.net/thumb/webtoon/67340/16/inst_thumbnail_20090703175605.jpg\n",
      "https://shared-comic.pstatic.net/thumb/webtoon/67340/15/inst_thumbnail_20090630185822.jpg\n",
      "https://shared-comic.pstatic.net/thumb/webtoon/67340/14/inst_thumbnail_20090626172438.jpg\n",
      "https://shared-comic.pstatic.net/thumb/webtoon/67340/13/inst_thumbnail_20090623175549.jpg\n",
      "https://shared-comic.pstatic.net/thumb/webtoon/67340/12/inst_thumbnail_20090619164813.jpg\n",
      "https://shared-comic.pstatic.net/thumb/webtoon/67340/11/inst_thumbnail_20090616174619.jpg\n",
      "https://shared-comic.pstatic.net/thumb/webtoon/67340/10/inst_thumbnail_20090612165102.jpg\n",
      "https://shared-comic.pstatic.net/thumb/webtoon/67340/9/inst_thumbnail_20090609171023.jpg\n",
      "https://shared-comic.pstatic.net/thumb/webtoon/67340/8/inst_thumbnail_20090605180701.jpg\n",
      "https://shared-comic.pstatic.net/thumb/webtoon/67340/7/inst_thumbnail_20090602165607.jpg\n",
      "https://shared-comic.pstatic.net/thumb/webtoon/67340/6/inst_thumbnail_20090529172434.jpg\n",
      "https://shared-comic.pstatic.net/thumb/webtoon/67340/5/inst_thumbnail_20090526173445.jpg\n",
      "https://shared-comic.pstatic.net/thumb/webtoon/67340/4/inst_thumbnail_20090522173532.jpg\n",
      "Done!\n"
     ]
    }
   ],
   "source": [
    "#웹툰별 회차 썸네일이미지 처리 및 저장\n",
    "for i in range(0, 1496):#4~1496\n",
    "    clear_output()\n",
    "    print('get',i,'th img...')\n",
    "    response = requests.get(df_info[\"img_url\"][i],stream=True).raw\n",
    "    pil_im = pil.open(response)\n",
    "    print('웹툰 id : ',df_info[\"id\"][i],', 대표이미지')\n",
    "    pil_im\n",
    "    if not os.path.isdir('thumb_img_chap/'+str(df_info[\"id\"][i])+'/'):\n",
    "        os.mkdir('thumb_img_chap/'+str(df_info[\"id\"][i])+'/')\n",
    "    for j,row in df_chapter[df_chapter['id']==df_info[\"id\"][i]].iterrows():\n",
    "        print(\"이미지 정제중 : \",j,end=\"\\r\")\n",
    "        if row['episode_title'] == 'AD 배너':\n",
    "            continue\n",
    "        img = row[\"img_url\"]\n",
    "        response = requests.get(img,stream=True).raw\n",
    "        print(img)\n",
    "        pil_im = pil.open(response)\n",
    "\n",
    "        temp_pil = pil_im\n",
    "        chapter = re.sub('[^A-Za-z0-9가-힣]', '', row['episode_title'])\n",
    "        if temp_pil.size[0] < 250:\n",
    "            temp_pil.resize((200,150), pil.ANTIALIAS).save('thumb_img_chap/'+str(df_info[\"id\"][i])+'/'+str(df_info[\"id\"][i])+'_'+chapter+'.png')\n",
    "        else:    \n",
    "            temp_pil.thumbnail((250,150))\n",
    "            area=(25,0,225,150)#left, top, right, bottom\n",
    "            temp_pil.crop(area).save('thumb_img_chap/'+str(df_info[\"id\"][i])+'/'+str(df_info[\"id\"][i])+'_'+chapter+'.png')\n",
    "print(\"Done!\")"
   ]
  },
  {
   "cell_type": "code",
   "execution_count": null,
   "metadata": {},
   "outputs": [],
   "source": []
  }
 ],
 "metadata": {
  "accelerator": "GPU",
  "colab": {
   "collapsed_sections": [],
   "name": "Untitled0.ipynb",
   "provenance": [],
   "toc_visible": true
  },
  "kernelspec": {
   "display_name": "Python 3",
   "language": "python",
   "name": "python3"
  },
  "language_info": {
   "codemirror_mode": {
    "name": "ipython",
    "version": 3
   },
   "file_extension": ".py",
   "mimetype": "text/x-python",
   "name": "python",
   "nbconvert_exporter": "python",
   "pygments_lexer": "ipython3",
   "version": "3.8.8"
  }
 },
 "nbformat": 4,
 "nbformat_minor": 1
}
